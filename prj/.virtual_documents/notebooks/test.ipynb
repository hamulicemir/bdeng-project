import pandas as pd
import matplotlib.pyplot as plt
import re


roles = ['Analyst', 'Engineer', 'Scientist']
file_path = "../output/ScrapedJobOffersAllCleaned.csv"
df = pd.read_csv(file_path)


def extract_data_role(title):
    for role in roles:
        pattern = rf'\bData\s+{role}\b'
        if re.search(pattern, title, re.IGNORECASE):
            return f"Data {role}"
    return None


df['data_role'] = df['job_title'].astype(str).apply(extract_data_role)
df_filtered = df[df['data_role'].notnull()]


# Gruppieren: Anzahl je Stadt und Data Role
grouped = df_filtered.groupby(['city', 'data_role']).size().unstack(fill_value=0)

# Farben für die Data Roles (3 Rollen)
colors = {
    'Data Analyst': '#FF0000',   # rot
    'Data Engineer': '#0000FF',  # blau
    'Data Scientist': '#00FF00'  # grün
}


# Plot
ax = grouped.plot(
kind='bar',
stacked=True,
color=[colors.get(col, '#333333') for col in grouped.columns],
figsize=(14, 8)
)


plt.xlabel("Stadt")
plt.ylabel("Anzahl der Jobangebote")
plt.title("Anzahl der Jobangebote je Data Role pro Stadt (gestapelt)")
plt.xticks(rotation=45, ha='right')
plt.legend(title='Data Role')
plt.tight_layout()
plt.show()
