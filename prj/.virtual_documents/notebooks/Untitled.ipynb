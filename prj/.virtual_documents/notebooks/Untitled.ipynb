import pandas as pd
import matplotlib.pyplot as plt


file_path = "../output/CostOfLivingAPI.csv"
cost_of_living_df = pd.read_csv(file_path)


cost_of_living_df["total_costs"] = (
    cost_of_living_df["apt1_city_centre"] +
    cost_of_living_df["ticket_monthly"] +
    cost_of_living_df["utilities"] +
    cost_of_living_df["internet"]
)


cost_of_living_df["score_allgemein"] = cost_of_living_df["net_salary"] / cost_of_living_df["total_costs"]





avg_netto_scraped = cost_of_living_df[["city", "country", "net_salary"]].copy()  # Dummy


merged_df = pd.merge(cost_of_living_df, avg_netto_scraped, how="inner", on=["city", "country"], suffixes=("", "_merged"))


merged_df = merged_df.sort_values(by="total_costs", ascending=False)


# Gruppiertes Balkendiagramm: Nettoeinkommen vs. Lebenshaltungskosten
merged_df = merged_df.sort_values(by="total_costs", ascending=False)

cities = merged_df["city"]
x = range(len(cities))

plt.figure(figsize=(14, 6))

bar_width = 0.4

plt.bar(x, merged_df["net_salary"], width=bar_width, label="Nettoeinkommen", color="#4CAF50")
plt.bar([p + bar_width for p in x], merged_df["total_costs"], width=bar_width, label="Lebenshaltungskosten", color="#FF6F61")

plt.xlabel("Stadt")
plt.ylabel("Betrag in EUR")
plt.title("Nettoeinkommen vs. Lebenshaltungskosten je Stadt")
plt.xticks([p + bar_width/2 for p in x], cities, rotation=45, ha='right')
plt.legend()
plt.tight_layout()
plt.show()



