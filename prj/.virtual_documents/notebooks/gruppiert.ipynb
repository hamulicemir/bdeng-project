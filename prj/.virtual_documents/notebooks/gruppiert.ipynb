import pandas as pd
import matplotlib.pyplot as plt


file_path = "../output/CostOfLivingAPI.csv"
cost_of_living_df = pd.read_csv(file_path)


cost_of_living_df["total_costs"] = (
    cost_of_living_df["apt1_city_centre"] +
    cost_of_living_df["ticket_monthly"] +
    cost_of_living_df["utilities"] +
    cost_of_living_df["internet"]
)


cost_of_living_df["score_allgemein"] = cost_of_living_df["net_salary"] / cost_of_living_df["total_costs"]


cost_of_living_df = cost_of_living_df[cost_of_living_df["country"] != "switzerland"]


avg_netto_scraped = cost_of_living_df[["city", "country", "net_salary"]].copy()


merged_df = pd.merge(
    cost_of_living_df,
    avg_netto_scraped,
    how="inner",
    on=["city", "country"],
    suffixes=("", "_merged")
)


cities = merged_df["city"]
x = range(len(cities))
bar_width = 0.6

plt.figure(figsize=(20, 10))

plt.bar(x, merged_df["total_costs"], label="Lebenshaltungskosten", color="#FF6F61", width=bar_width)
plt.bar(x, merged_df["net_salary"], bottom=merged_df["total_costs"], label="Nettoeinkommen", color="#2ECC71", width=bar_width)

plt.xlabel("Stadt")
plt.ylabel("Betrag in EUR")
plt.title("Gestapelte Darstellung: Lebenshaltungskosten + Nettoeinkommen (absolut)")
plt.xticks(x, cities, rotation=45, ha='right')
plt.legend()
plt.tight_layout()
plt.show()


merged_df["total"] = merged_df["net_salary"] + merged_df["total_costs"]
merged_df["costs_pct"] = merged_df["total_costs"] / merged_df["total"]
merged_df["salary_pct"] = merged_df["net_salary"] / merged_df["total"]

# Nach Kostenanteil sortieren (optional)
merged_df = merged_df.sort_values(by="costs_pct", ascending=False)

cities = merged_df["city"]
x = range(len(cities))

plt.figure(figsize=(20, 10))

plt.bar(
    x,
    merged_df["costs_pct"],
    label="Lebenshaltungskosten",
    color="#FF6F61",
    width=bar_width
)
plt.bar(
    x,
    merged_df["salary_pct"],
    bottom=merged_df["costs_pct"],
    label="Nettoeinkommen",
    color="#2ECC71",
    width=bar_width
)

plt.xlabel("Stadt")
plt.ylabel("Anteil am Gesamteinkommen")
plt.title("Relative Anteile von Nettoeinkommen und Lebenshaltungskosten (100 % gestapelt)")
plt.xticks(x, cities, rotation=45, ha='right')
plt.yticks([i/10 for i in range(11)], [f"{i*10}%" for i in range(11)])
plt.legend()
plt.tight_layout()
plt.show()
