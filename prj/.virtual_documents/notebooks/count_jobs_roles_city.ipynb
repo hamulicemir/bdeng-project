import pandas as pd
import matplotlib.pyplot as plt
import re
import seaborn as sns


# Liste der Rollen, die wir suchen
roles = ['Analyst', 'Engineer', 'Scientist']


# CSV-Datei laden
file_path = "../output/ScrapedJobOffersAllCleaned.csv"
df = pd.read_csv(file_path)


def extract_data_role(title):
    title = title.lower()
    if "analyst" in title:
        return "Data Analyst"
    elif "engineer" in title:
        return "Data Engineer"
    elif "scientist" in title:
        return "Data Scientist"
    return None


df['data_role'] = df['job_title'].astype(str).apply(extract_data_role)
df_filtered = df[df['data_role'].notnull()]


# Alle Kombinationen zählen
job_counts = df_filtered.groupby(['data_role', 'city']).size().reset_index(name='count')


unique_cities = job_counts['city'].unique()
num_colors = len(unique_cities)

# Feste, klar unterscheidbare Farben (z.B. 12 Farben)
# (rot, blau, grün, orange, violett, türkis, gelb, braun, pink, cyan, olive, magenta)
distinct_colors = [
    "#FF5555",  # helles, kräftiges rot
    "#61AFEF",  # leuchtend blau (VS Code Blau)
    "#98C379",  # saftiges grün
    "#E5C07B",  # warmes gold/orange
    "#C678DD",  # violett/lavendel
    "#56B6C2",  # türkiston mit guter Lesbarkeit
    "#D19A66",  # erdiges orange
    "#BE5046",  # rostrot
    "#ABB2BF",  # neutrales hellgrau
    "#FF79C6",  # pink (Dark Mode freundlich)
    "#F1FA8C",  # gelblich, aber dunkler Ton (wie in Dracula Theme)
    "#8BE9FD",  # hellblau, lesbar auf schwarz
]


# Falls mehr Städte als Farben, Farben zyklisch wiederverwenden
color_map = {city: distinct_colors[i % len(distinct_colors)] for i, city in enumerate(unique_cities)}

job_counts = job_counts.sort_values(by='count', ascending=False)

plt.figure(figsize=(14, max(6, len(job_counts)*0.3)))

bars = plt.barh(
    job_counts['data_role'] + " – " + job_counts['city'],
    job_counts['count'],
    color=[color_map[city] for city in job_counts['city']]
)

plt.xlabel("Anzahl der Jobangebote")
plt.title("Anzahl der Jobangebote: Data Role & Stadt")
plt.gca().invert_yaxis()

# Vertikale gestrichelte Linien alle 10 Stellen
max_count = job_counts['count'].max()
for x in range(10, int(max_count) + 10, 10):
    plt.axvline(x=x, color='gray', linestyle='dotted', linewidth=0.5)

# Legende
from matplotlib.patches import Patch
legend_elements = [Patch(facecolor=color_map[city], label=city) for city in unique_cities]
plt.legend(handles=legend_elements, title="Stadt", bbox_to_anchor=(1.05, 1), loc='upper left')

plt.tight_layout()
plt.show()



