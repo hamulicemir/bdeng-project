{
 "cells": [
  {
   "metadata": {},
   "cell_type": "markdown",
   "source": "# Score-Differenz: Data-Professionals vs. Durchschnittseinkommen",
   "id": "b1dcb052d4f459c9"
  },
  {
   "metadata": {},
   "cell_type": "markdown",
   "source": "### Wo lohnen sich Data-Jobs besonders?",
   "id": "6a8e2857250fdeae"
  },
  {
   "metadata": {
    "ExecuteTime": {
     "end_time": "2025-06-23T19:58:31.109263Z",
     "start_time": "2025-06-23T19:58:31.105014Z"
    }
   },
   "cell_type": "code",
   "source": [
    "import pandas as pd\n",
    "import matplotlib.pyplot as plt"
   ],
   "id": "71a50cec108ac998",
   "outputs": [],
   "execution_count": 37
  },
  {
   "metadata": {
    "ExecuteTime": {
     "end_time": "2025-06-23T19:58:31.182264Z",
     "start_time": "2025-06-23T19:58:31.170230Z"
    }
   },
   "cell_type": "code",
   "source": [
    "# Daten laden\n",
    "cost_of_living_df = pd.read_csv(\"../output/CostOfLivingAPI.csv\")\n",
    "scraped_jobs_df = pd.read_csv(\"../output/ScrapedJobOffersAllCleaned.csv\")"
   ],
   "id": "b7013048cc8e422d",
   "outputs": [],
   "execution_count": 38
  },
  {
   "metadata": {},
   "cell_type": "markdown",
   "source": "## Brutto -> Netto Umrechnung",
   "id": "9a16d49556b10286"
  },
  {
   "metadata": {
    "ExecuteTime": {
     "end_time": "2025-06-23T19:58:31.206757Z",
     "start_time": "2025-06-23T19:58:31.188748Z"
    }
   },
   "cell_type": "code",
   "source": [
    "scraped_jobs_df[\"annual_salary_netto\"] = scraped_jobs_df.apply(\n",
    "    lambda row: row[\"annual_salary\"] * 0.62 if row[\"country\"].lower() == \"austria\"\n",
    "    else row[\"annual_salary\"] * 0.62 if row[\"country\"].lower() == \"germany\"\n",
    "    else None,\n",
    "    axis=1\n",
    ")"
   ],
   "id": "ced8e7a13480880d",
   "outputs": [],
   "execution_count": 39
  },
  {
   "metadata": {},
   "cell_type": "markdown",
   "source": "## Städte und Länder vereinheitlichen",
   "id": "dd322b675c44011f"
  },
  {
   "metadata": {
    "ExecuteTime": {
     "end_time": "2025-06-23T19:58:31.259286Z",
     "start_time": "2025-06-23T19:58:31.249236Z"
    }
   },
   "cell_type": "code",
   "source": [
    "scraped_jobs_df[\"city\"] = scraped_jobs_df[\"city\"].str.strip().str.title()\n",
    "scraped_jobs_df[\"country\"] = scraped_jobs_df[\"country\"].str.strip().str.lower()\n",
    "cost_of_living_df[\"city\"] = cost_of_living_df[\"city\"].str.strip().str.title()\n",
    "cost_of_living_df[\"country\"] = cost_of_living_df[\"country\"].str.strip().str.lower()"
   ],
   "id": "edb176d455639783",
   "outputs": [],
   "execution_count": 40
  },
  {
   "metadata": {},
   "cell_type": "markdown",
   "source": "## Durchschnittliches Netto-Datajob-Gehalt pro Stadt",
   "id": "f15507f8a5132cf6"
  },
  {
   "metadata": {
    "ExecuteTime": {
     "end_time": "2025-06-23T19:58:31.311641Z",
     "start_time": "2025-06-23T19:58:31.302607Z"
    }
   },
   "cell_type": "code",
   "source": [
    "avg_netto_scraped = scraped_jobs_df.groupby([\"city\", \"country\"], as_index=False)[\n",
    "    \"annual_salary_netto\"].mean().rename(columns={\"annual_salary_netto\": \"avg_datajob_netto\"})"
   ],
   "id": "78182e4c96d1b5a9",
   "outputs": [],
   "execution_count": 41
  },
  {
   "metadata": {},
   "cell_type": "markdown",
   "source": "## Lebenshaltungskosten berechnen",
   "id": "e71bc01333389d0b"
  },
  {
   "metadata": {
    "ExecuteTime": {
     "end_time": "2025-06-23T19:58:31.368873Z",
     "start_time": "2025-06-23T19:58:31.363774Z"
    }
   },
   "cell_type": "code",
   "source": [
    "cost_of_living_df[\"total_costs\"] = (\n",
    "        cost_of_living_df[\"apt1_city_centre\"] +\n",
    "        cost_of_living_df[\"ticket_monthly\"] +\n",
    "        cost_of_living_df[\"utilities\"] +\n",
    "        cost_of_living_df[\"internet\"]\n",
    ")\n",
    "cost_of_living_df[\"score_allgemein\"] = cost_of_living_df[\"net_salary\"] / cost_of_living_df[\"total_costs\"]"
   ],
   "id": "16cbcc53c1c05932",
   "outputs": [],
   "execution_count": 42
  },
  {
   "metadata": {
    "ExecuteTime": {
     "end_time": "2025-06-23T19:58:31.510158Z",
     "start_time": "2025-06-23T19:58:31.500635Z"
    }
   },
   "cell_type": "code",
   "source": [
    "# Merge der beiden Quellen\n",
    "merged_df = pd.merge(cost_of_living_df, avg_netto_scraped, how=\"inner\", on=[\"city\", \"country\"])"
   ],
   "id": "5d84222b73794996",
   "outputs": [],
   "execution_count": 43
  },
  {
   "metadata": {},
   "cell_type": "markdown",
   "source": "## Monatsberechnung nach Land",
   "id": "705a4b329f778820"
  },
  {
   "metadata": {
    "ExecuteTime": {
     "end_time": "2025-06-23T19:58:31.527875Z",
     "start_time": "2025-06-23T19:58:31.522869Z"
    }
   },
   "cell_type": "code",
   "source": [
    "def compute_monthly_netto(row):\n",
    "    if row[\"country\"] == \"austria\":\n",
    "        return row[\"avg_datajob_netto\"] / 12\n",
    "    elif row[\"country\"] == \"germany\":\n",
    "        return row[\"avg_datajob_netto\"] / 12\n",
    "    else:\n",
    "        return None\n",
    "\n",
    "merged_df[\"monthly_datajob_netto\"] = merged_df.apply(compute_monthly_netto, axis=1)"
   ],
   "id": "5c7e11aaab04371e",
   "outputs": [],
   "execution_count": 44
  },
  {
   "metadata": {},
   "cell_type": "markdown",
   "source": "## Score für Datajob auf Monatsbasis",
   "id": "e1ac59c5443776c5"
  },
  {
   "metadata": {
    "ExecuteTime": {
     "end_time": "2025-06-23T19:58:31.594735Z",
     "start_time": "2025-06-23T19:58:31.588130Z"
    }
   },
   "cell_type": "code",
   "source": "merged_df[\"score_datajob\"] = merged_df[\"monthly_datajob_netto\"] / merged_df[\"total_costs\"]",
   "id": "649edf5f5f7a40b1",
   "outputs": [],
   "execution_count": 45
  },
  {
   "metadata": {},
   "cell_type": "markdown",
   "source": "## Ranking-Tabelle",
   "id": "c2ead8ed438b7fb4"
  },
  {
   "metadata": {
    "ExecuteTime": {
     "end_time": "2025-06-23T19:58:31.715654Z",
     "start_time": "2025-06-23T19:58:31.700611Z"
    }
   },
   "cell_type": "code",
   "source": [
    "ranking_df = merged_df.sort_values(\"score_datajob\", ascending=False)[[\n",
    "    \"city\", \"country\", \"net_salary\", \"monthly_datajob_netto\", \"total_costs\", \"score_allgemein\", \"score_datajob\"\n",
    "]]\n",
    "display(ranking_df)"
   ],
   "id": "e4d5e6c55a16345",
   "outputs": [
    {
     "data": {
      "text/plain": [
       "        city  country  net_salary  monthly_datajob_netto  total_costs  \\\n",
       "7  Frankfurt  germany     3666.67            3866.564664      1067.92   \n",
       "6    Hamburg  germany     2540.87            3852.466056      1340.04   \n",
       "2       Linz  austria     2229.89            2781.900076      1004.98   \n",
       "8       Köln  germany     2628.25            3959.456871      1498.92   \n",
       "1       Graz  austria     2551.07            2649.356535      1117.28   \n",
       "4     Berlin  germany     2891.64            3643.464263      1641.40   \n",
       "5    München  germany     3382.65            4013.150014      1971.09   \n",
       "0       Wien  austria     2641.54            2790.664341      1393.29   \n",
       "3   Salzburg  austria     2763.55            2506.404706      1548.90   \n",
       "\n",
       "   score_allgemein  score_datajob  \n",
       "7         3.433469       3.620650  \n",
       "6         1.896115       2.874889  \n",
       "2         2.218840       2.768115  \n",
       "8         1.753429       2.641540  \n",
       "1         2.283286       2.371256  \n",
       "4         1.761691       2.219730  \n",
       "5         1.716132       2.036005  \n",
       "0         1.895901       2.002931  \n",
       "3         1.784202       1.618184  "
      ],
      "text/html": [
       "<div>\n",
       "<style scoped>\n",
       "    .dataframe tbody tr th:only-of-type {\n",
       "        vertical-align: middle;\n",
       "    }\n",
       "\n",
       "    .dataframe tbody tr th {\n",
       "        vertical-align: top;\n",
       "    }\n",
       "\n",
       "    .dataframe thead th {\n",
       "        text-align: right;\n",
       "    }\n",
       "</style>\n",
       "<table border=\"1\" class=\"dataframe\">\n",
       "  <thead>\n",
       "    <tr style=\"text-align: right;\">\n",
       "      <th></th>\n",
       "      <th>city</th>\n",
       "      <th>country</th>\n",
       "      <th>net_salary</th>\n",
       "      <th>monthly_datajob_netto</th>\n",
       "      <th>total_costs</th>\n",
       "      <th>score_allgemein</th>\n",
       "      <th>score_datajob</th>\n",
       "    </tr>\n",
       "  </thead>\n",
       "  <tbody>\n",
       "    <tr>\n",
       "      <th>7</th>\n",
       "      <td>Frankfurt</td>\n",
       "      <td>germany</td>\n",
       "      <td>3666.67</td>\n",
       "      <td>3866.564664</td>\n",
       "      <td>1067.92</td>\n",
       "      <td>3.433469</td>\n",
       "      <td>3.620650</td>\n",
       "    </tr>\n",
       "    <tr>\n",
       "      <th>6</th>\n",
       "      <td>Hamburg</td>\n",
       "      <td>germany</td>\n",
       "      <td>2540.87</td>\n",
       "      <td>3852.466056</td>\n",
       "      <td>1340.04</td>\n",
       "      <td>1.896115</td>\n",
       "      <td>2.874889</td>\n",
       "    </tr>\n",
       "    <tr>\n",
       "      <th>2</th>\n",
       "      <td>Linz</td>\n",
       "      <td>austria</td>\n",
       "      <td>2229.89</td>\n",
       "      <td>2781.900076</td>\n",
       "      <td>1004.98</td>\n",
       "      <td>2.218840</td>\n",
       "      <td>2.768115</td>\n",
       "    </tr>\n",
       "    <tr>\n",
       "      <th>8</th>\n",
       "      <td>Köln</td>\n",
       "      <td>germany</td>\n",
       "      <td>2628.25</td>\n",
       "      <td>3959.456871</td>\n",
       "      <td>1498.92</td>\n",
       "      <td>1.753429</td>\n",
       "      <td>2.641540</td>\n",
       "    </tr>\n",
       "    <tr>\n",
       "      <th>1</th>\n",
       "      <td>Graz</td>\n",
       "      <td>austria</td>\n",
       "      <td>2551.07</td>\n",
       "      <td>2649.356535</td>\n",
       "      <td>1117.28</td>\n",
       "      <td>2.283286</td>\n",
       "      <td>2.371256</td>\n",
       "    </tr>\n",
       "    <tr>\n",
       "      <th>4</th>\n",
       "      <td>Berlin</td>\n",
       "      <td>germany</td>\n",
       "      <td>2891.64</td>\n",
       "      <td>3643.464263</td>\n",
       "      <td>1641.40</td>\n",
       "      <td>1.761691</td>\n",
       "      <td>2.219730</td>\n",
       "    </tr>\n",
       "    <tr>\n",
       "      <th>5</th>\n",
       "      <td>München</td>\n",
       "      <td>germany</td>\n",
       "      <td>3382.65</td>\n",
       "      <td>4013.150014</td>\n",
       "      <td>1971.09</td>\n",
       "      <td>1.716132</td>\n",
       "      <td>2.036005</td>\n",
       "    </tr>\n",
       "    <tr>\n",
       "      <th>0</th>\n",
       "      <td>Wien</td>\n",
       "      <td>austria</td>\n",
       "      <td>2641.54</td>\n",
       "      <td>2790.664341</td>\n",
       "      <td>1393.29</td>\n",
       "      <td>1.895901</td>\n",
       "      <td>2.002931</td>\n",
       "    </tr>\n",
       "    <tr>\n",
       "      <th>3</th>\n",
       "      <td>Salzburg</td>\n",
       "      <td>austria</td>\n",
       "      <td>2763.55</td>\n",
       "      <td>2506.404706</td>\n",
       "      <td>1548.90</td>\n",
       "      <td>1.784202</td>\n",
       "      <td>1.618184</td>\n",
       "    </tr>\n",
       "  </tbody>\n",
       "</table>\n",
       "</div>"
      ]
     },
     "metadata": {},
     "output_type": "display_data"
    }
   ],
   "execution_count": 46
  },
  {
   "metadata": {},
   "cell_type": "markdown",
   "source": "## Visualisierung der Top 10",
   "id": "29dcb5ca1e11e1eb"
  },
  {
   "metadata": {
    "collapsed": true,
    "ExecuteTime": {
     "end_time": "2025-06-23T19:58:32.041576Z",
     "start_time": "2025-06-23T19:58:31.777939Z"
    }
   },
   "cell_type": "code",
   "source": [
    "# Differenz berechnen\n",
    "merged_df[\"score_diff\"] = merged_df[\"score_datajob\"] - merged_df[\"score_allgemein\"]\n",
    "\n",
    "# Sortiert nach größter positiver Differenz\n",
    "top_diff = merged_df.sort_values(\"score_diff\", ascending=False).head(8)\n",
    "\n",
    "# Farben nach Vorzeichen\n",
    "colors = ['#2ECC71' if val >= 0 else '#E74C3C' for val in top_diff[\"score_diff\"]]\n",
    "\n",
    "# Plot\n",
    "plt.figure(figsize=(20, 12))\n",
    "plt.barh(top_diff[\"city\"], top_diff[\"score_diff\"], color=colors)\n",
    "plt.xlabel(\"Score-Differenz (Datajob – Allgemein)\")\n",
    "plt.title(\"Vorteil durch Datajob-Einkommen im Vergleich zum Durchschnitt\")\n",
    "plt.axvline(0, color='gray', linewidth=1)\n",
    "plt.gca().invert_yaxis()\n",
    "plt.tight_layout()\n",
    "plt.show()"
   ],
   "id": "initial_id",
   "outputs": [
    {
     "data": {
      "text/plain": [
       "<Figure size 1440x864 with 1 Axes>"
      ],
      "image/png": "[encoded data removed]"
     },
     "metadata": {
      "needs_background": "light"
     },
     "output_type": "display_data"
    }
   ],
   "execution_count": 47
  },
  {
   "metadata": {},
   "cell_type": "markdown",
   "source": "",
   "id": "a1b499a32980f30d"
  }
 ],
 "metadata": {
  "kernelspec": {
   "display_name": "Python 3",
   "language": "python",
   "name": "python3"
  },
  "language_info": {
   "codemirror_mode": {
    "name": "ipython",
    "version": 2
   },
   "file_extension": ".py",
   "mimetype": "text/x-python",
   "name": "python",
   "nbconvert_exporter": "python",
   "pygments_lexer": "ipython2",
   "version": "2.7.6"
  }
 },
 "nbformat": 4,
 "nbformat_minor": 5
}
