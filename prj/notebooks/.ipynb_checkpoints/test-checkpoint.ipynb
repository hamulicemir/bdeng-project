{
 "cells": [
  {
   "cell_type": "code",
   "id": "initial_id",
   "metadata": {
    "collapsed": true,
    "jupyter": {
     "is_executing": true
    }
   },
   "source": [
    "import pandas as pd\n",
    "import matplotlib.pyplot as plt\n",
    "import re"
   ],
   "outputs": [],
   "execution_count": null
  },
  {
   "metadata": {
    "jupyter": {
     "is_executing": true
    }
   },
   "cell_type": "code",
   "source": [
    "roles = ['Analyst', 'Engineer', 'Scientist']\n",
    "file_path = \"../output/ScrapedJobOffersAllCleaned.csv\"\n",
    "df = pd.read_csv(file_path)"
   ],
   "id": "835ce14f7b88f6d5",
   "outputs": [],
   "execution_count": null
  },
  {
   "metadata": {
    "jupyter": {
     "is_executing": true
    }
   },
   "cell_type": "code",
   "source": [
    "def extract_data_role(title):\n",
    "    for role in roles:\n",
    "        pattern = rf'\\bData\\s+{role}\\b'\n",
    "        if re.search(pattern, title, re.IGNORECASE):\n",
    "            return f\"Data {role}\"\n",
    "    return None"
   ],
   "id": "7f1073eab8d07f17",
   "outputs": [],
   "execution_count": null
  },
  {
   "metadata": {
    "jupyter": {
     "is_executing": true
    }
   },
   "cell_type": "code",
   "source": [
    "df['data_role'] = df['job_title'].astype(str).apply(extract_data_role)\n",
    "df_filtered = df[df['data_role'].notnull()]"
   ],
   "id": "de069932e960f661",
   "outputs": [],
   "execution_count": null
  },
  {
   "metadata": {
    "jupyter": {
     "is_executing": true
    }
   },
   "cell_type": "code",
   "source": [
    "# Gruppieren: Anzahl je Stadt und Data Role\n",
    "grouped = df_filtered.groupby(['city', 'data_role']).size().unstack(fill_value=0)\n",
    "\n",
    "# Farben für die Data Roles (3 Rollen)\n",
    "colors = {\n",
    "    'Data Analyst': '#FF0000',   # rot\n",
    "    'Data Engineer': '#0000FF',  # blau\n",
    "    'Data Scientist': '#00FF00'  # grün\n",
    "}"
   ],
   "id": "9cd5b50ec2730791",
   "outputs": [],
   "execution_count": null
  },
  {
   "metadata": {
    "jupyter": {
     "is_executing": true
    }
   },
   "cell_type": "code",
   "source": [
    "# Plot\n",
    "    ax = grouped.plot(\n",
    "    kind='bar',\n",
    "    stacked=True,\n",
    "    color=[colors.get(col, '#333333') for col in grouped.columns],\n",
    "    figsize=(14, 8)\n",
    ")"
   ],
   "id": "e639bb40f078daf6",
   "outputs": [],
   "execution_count": null
  },
  {
   "metadata": {
    "jupyter": {
     "is_executing": true
    }
   },
   "cell_type": "code",
   "source": [
    "plt.xlabel(\"Stadt\")\n",
    "plt.ylabel(\"Anzahl der Jobangebote\")\n",
    "plt.title(\"Anzahl der Jobangebote je Data Role pro Stadt (gestapelt)\")\n",
    "plt.xticks(rotation=45, ha='right')\n",
    "plt.legend(title='Data Role')\n",
    "plt.tight_layout()\n",
    "plt.show()"
   ],
   "id": "4b6c7e3728cad2fd",
   "outputs": [],
   "execution_count": null
  }
 ],
 "metadata": {
  "kernelspec": {
   "display_name": "Python 3",
   "language": "python",
   "name": "python3"
  },
  "language_info": {
   "codemirror_mode": {
    "name": "ipython",
    "version": 2
   },
   "file_extension": ".py",
   "mimetype": "text/x-python",
   "name": "python",
   "nbconvert_exporter": "python",
   "pygments_lexer": "ipython2",
   "version": "2.7.6"
  }
 },
 "nbformat": 4,
 "nbformat_minor": 5
}
