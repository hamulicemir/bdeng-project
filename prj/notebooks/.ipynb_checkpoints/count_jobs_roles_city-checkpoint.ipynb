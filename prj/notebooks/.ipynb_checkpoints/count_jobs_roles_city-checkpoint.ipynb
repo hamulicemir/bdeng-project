{
 "cells": [
  {
   "cell_type": "code",
   "id": "initial_id",
   "metadata": {
    "collapsed": true,
    "jupyter": {
     "is_executing": true
    }
   },
   "source": [
    "# Benötigte Bibliotheken importieren\n",
    "import pandas as pd\n",
    "import matplotlib.pyplot as plt"
   ],
   "outputs": [],
   "execution_count": null
  },
  {
   "metadata": {
    "jupyter": {
     "is_executing": true
    }
   },
   "cell_type": "code",
   "source": [
    "# CSV-Datei laden\n",
    "file_path = \"../output/ScrapedJobOffersAllCleaned.csv\"\n",
    "df = pd.read_csv(file_path)"
   ],
   "id": "6f3abf683384f51c",
   "outputs": [],
   "execution_count": null
  },
  {
   "metadata": {
    "jupyter": {
     "is_executing": true
    }
   },
   "cell_type": "code",
   "source": [
    "# Anzahl der Jobangebote je Kombination aus Rolle und Stadt zählen\n",
    "job_counts = df.groupby(['job_title', 'city']).size().reset_index(name='count')"
   ],
   "id": "7d5d08081b5f0a98",
   "outputs": [],
   "execution_count": null
  },
  {
   "metadata": {
    "jupyter": {
     "is_executing": true
    }
   },
   "cell_type": "code",
   "source": [
    "# Nach Anzahl sortieren und optional die Top 20 anzeigen (für bessere Lesbarkeit)\n",
    "top_20 = job_counts.sort_values(by='count', ascending=False).head(20)"
   ],
   "id": "6644c0c4aa50d461",
   "outputs": [],
   "execution_count": null
  },
  {
   "metadata": {},
   "cell_type": "code",
   "source": [
    "# Visualisierung als horizontales Balkendiagramm\n",
    "plt.figure(figsize=(14, 8))\n",
    "plt.barh(top_20['job_title'] + \" – \" + top_20['city'], top_20['count'], color='steelblue')\n",
    "plt.xlabel(\"Anzahl der Jobangebote\")\n",
    "plt.title(\"Top 20 Kombinationen: Rolle & Stadt nach Anzahl der Jobangebote\")\n",
    "plt.gca().invert_yaxis()  # höchste zuerst anzeigen\n",
    "plt.tight_layout()\n",
    "plt.show()"
   ],
   "id": "eb56bc1986c8b9c5",
   "outputs": [],
   "execution_count": null
  },
  {
   "metadata": {},
   "cell_type": "code",
   "source": "",
   "id": "434cca4a5baab53",
   "outputs": [],
   "execution_count": null
  }
 ],
 "metadata": {
  "kernelspec": {
   "display_name": "Python 3",
   "language": "python",
   "name": "python3"
  },
  "language_info": {
   "codemirror_mode": {
    "name": "ipython",
    "version": 2
   },
   "file_extension": ".py",
   "mimetype": "text/x-python",
   "name": "python",
   "nbconvert_exporter": "python",
   "pygments_lexer": "ipython2",
   "version": "2.7.6"
  }
 },
 "nbformat": 4,
 "nbformat_minor": 5
}
