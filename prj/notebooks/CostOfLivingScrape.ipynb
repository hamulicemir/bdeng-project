{
 "cells": [
  {
   "metadata": {},
   "cell_type": "markdown",
   "source": [
    "**Cost of Living Index** (Excl. Rent): This index measures the relative prices of consumer goods and services—including groceries, dining, transportation, and utilities—but excludes housing costs like rent or mortgage payments. For example, a city with a Cost of Living Index of 120 suggests that everyday expenses are 20% higher than in NYC, excluding rent.\n",
    "\n",
    "Rent Index: This index evaluates the average cost of renting apartments in a city compared to New York City. An index value of 80 indicates that rental prices are approximately 20% lower than those in New York City.\n",
    "\n",
    "Groceries Index: This index assesses the cost of grocery items in a city relative to New York City. It is calculated using the weighted prices of various food items commonly found in the \"Markets\" section of Numbeo's database.\n",
    "\n",
    "Restaurants Index: This index compares the prices of meals and beverages in restaurants and bars between a given city and New York City, reflecting dining out expenses.\n",
    "Cost of Living Plus Rent Index: This comprehensive index combines the costs captured in the Cost of Living Index and the Rent Index, providing an overall comparison of both everyday expenses and housing costs relative to New York City.\n",
    "\n",
    "Local Purchasing Power: This index indicates the relative purchasing power of residents in a city based on the average net salary. A value of 40 implies that, on average, residents can afford 60% fewer goods and services than those in New York City earning an average salary"
   ],
   "id": "8e1fb4706df0db30"
  },
  {
   "metadata": {
    "collapsed": true,
    "ExecuteTime": {
     "end_time": "2025-06-22T11:33:45.821249Z",
     "start_time": "2025-06-22T11:33:45.129949Z"
    }
   },
   "cell_type": "code",
   "outputs": [
    {
     "name": "stdout",
     "output_type": "stream",
     "text": [
      " Rank                              City  Cost of Living Index  Rent Index  Cost of Living Plus Rent Index  Groceries Index  Restaurant Price Index  Local Purchasing Power Index\n",
      "  NaN               Zurich, Switzerland                 103.8        59.3                            84.1            103.2                   104.1                         158.3\n",
      "  NaN             Lausanne, Switzerland                 100.9        42.9                            75.2            105.9                   101.6                         157.0\n",
      "  NaN               Geneva, Switzerland                 100.7        56.4                            81.1            104.6                   107.2                         161.4\n",
      "  NaN                Basel, Switzerland                  98.0        43.1                            73.7            103.9                   102.9                         176.9\n",
      "  NaN                 Bern, Switzerland                  95.0        33.2                            67.6             98.8                    87.6                         160.1\n",
      "  NaN                     Paris, France                  68.2        36.9                            54.3             70.9                    64.8                         104.6\n",
      "  NaN            Amsterdam, Netherlands                  67.7        49.5                            59.7             58.0                    76.6                         124.3\n",
      "  NaN            Luxembourg, Luxembourg                  66.0        46.0                            57.2             66.1                    77.2                         167.3\n",
      "  NaN                   Munich, Germany                  65.9        37.7                            53.4             58.0                    67.1                         117.0\n",
      "  NaN              Haarlem, Netherlands                  65.3        33.3                            51.1             58.6                    78.6                         101.5\n",
      "  NaN                      Lyon, France                  63.2        22.0                            44.9             70.5                    60.6                         110.2\n",
      "  NaN                  Hamburg, Germany                  63.1        27.5                            47.4             57.9                    66.7                         130.5\n",
      "  NaN                 Brussels, Belgium                  61.9        28.2                            47.0             60.8                    72.2                         111.9\n",
      "  NaN                Frankfurt, Germany                  61.8        30.0                            47.8             57.6                    62.4                         140.6\n",
      "  NaN            Rotterdam, Netherlands                  61.5        34.7                            49.6             57.7                    70.3                         125.6\n",
      "  NaN                  Cologne, Germany                  61.3        24.8                            45.1             59.5                    57.5                         123.4\n",
      "  NaN                   Vienna, Austria                  61.2        26.2                            45.7             62.5                    60.5                         110.6\n",
      "  NaN                  Antwerp, Belgium                  61.2        21.0                            43.4             60.1                    73.8                         105.3\n",
      "  NaN               Dusseldorf, Germany                  60.8        26.3                            45.5             57.9                    60.8                         125.1\n",
      "  NaN                Stuttgart, Germany                  60.2        27.4                            45.7             58.5                    61.5                         134.9\n",
      "  NaN              Utrecht, Netherlands                  60.2        34.7                            48.9             56.6                    65.0                         134.2\n",
      "  NaN                Nuremberg, Germany                  60.0        21.0                            42.8             57.2                    61.7                         137.8\n",
      "  NaN            Eindhoven, Netherlands                  59.9        30.4                            46.9             55.3                    64.1                         135.9\n",
      "  NaN                     Gent, Belgium                  59.8        19.7                            42.0             58.1                    73.4                         116.5\n",
      "  NaN                   Berlin, Germany                  59.6        30.4                            46.7             55.1                    60.1                         121.0\n",
      "  NaN                     Graz, Austria                  59.6        19.2                            41.7             60.1                    58.3                         115.8\n",
      "  NaN                    Essen, Germany                  59.1        16.8                            40.4             57.3                    55.1                         139.3\n",
      "  NaN               Montpellier, France                  59.0        16.7                            40.3             66.7                    54.6                         100.7\n",
      "  NaN                Karlsruhe, Germany                  58.9        23.4                            43.2             57.7                    56.6                         122.1\n",
      "  NaN                   Bremen, Germany                  58.6        18.4                            40.8             58.8                    56.5                         140.2\n",
      "  NaN                  Toulouse, France                  58.5        19.3                            41.1             67.3                    55.6                         120.4\n",
      "  NaN The Hague (Den Haag), Netherlands                  58.3        34.9                            47.9             57.4                    61.4                         146.1\n",
      "  NaN                  Hanover, Germany                  58.1        20.0                            41.2             55.8                    58.5                         119.9\n",
      "  NaN                 Mannheim, Germany                  58.1        20.7                            41.5             58.2                    49.5                         175.4\n",
      "  NaN                   Aachen, Germany                  57.5        17.9                            40.0             55.7                    54.6                         136.1\n",
      "  NaN                  Leipzig, Germany                  56.4        17.8                            39.3             59.0                    52.7                         119.3\n",
      "  NaN                  Dresden, Germany                  55.9        18.2                            39.2             54.6                    56.2                         136.0\n",
      "  NaN            Groningen, Netherlands                  54.5        21.6                            39.9             55.7                    61.6                         149.2\n"
     ]
    },
    {
     "name": "stderr",
     "output_type": "stream",
     "text": [
      "/var/folders/gt/2q1t88w95z77rlrh16c5y6300000gn/T/ipykernel_87221/2959544238.py:11: FutureWarning: Passing literal html to 'read_html' is deprecated and will be removed in a future version. To read from a literal string, wrap it in a 'StringIO' object.\n",
      "  tables = pd.read_html(response.text, attrs={\"id\": \"t2\"})\n"
     ]
    }
   ],
   "execution_count": 15,
   "source": [
    "import requests\n",
    "import pandas as pd\n",
    "\n",
    "URL = \"https://www.numbeo.com/cost-of-living/region_rankings.jsp?title=2025&region=155\"\n",
    "\n",
    "HEADERS = {\"User-Agent\": \"Mozilla/5.0 (Windows NT 10.0; Win64; x64)\"}\n",
    "\n",
    "def scrape_table(url):\n",
    "    response = requests.get(url, headers=HEADERS)\n",
    "    response.raise_for_status()\n",
    "    tables = pd.read_html(response.text, attrs={\"id\": \"t2\"})\n",
    "    if tables:\n",
    "        return tables[0]\n",
    "    else:\n",
    "        raise ValueError(\"Keine Tabelle mit id=\\\"t2\\\" gefunden.\")\n",
    "\n",
    "df = scrape_table(URL)\n",
    "print(df.to_string(index=False))\n",
    "df.to_csv(\"cost_of_living_2025_region_155.csv\", index=False)"
   ],
   "id": "initial_id"
  },
  {
   "metadata": {
    "ExecuteTime": {
     "end_time": "2025-06-22T11:33:45.834556Z",
     "start_time": "2025-06-22T11:33:45.828349Z"
    }
   },
   "cell_type": "code",
   "outputs": [],
   "execution_count": 16,
   "source": [
    "df = df.drop(columns=['Rank'])\n",
    "df[['City', 'Country']] = df['City'].str.split(', ', n=1, expand=True)\n",
    "df.insert(0, 'Country', df.pop('Country'))\n",
    "df = df[df['Country'].isin(['Switzerland', 'Austria', 'Germany'])]"
   ],
   "id": "d0c379861de6181b"
  },
  {
   "metadata": {
    "ExecuteTime": {
     "end_time": "2025-06-22T11:33:45.872614Z",
     "start_time": "2025-06-22T11:33:45.869031Z"
    }
   },
   "cell_type": "code",
   "outputs": [],
   "execution_count": 17,
   "source": [
    "df.head(100)\n",
    "df.to_csv(\"../output/cost_of_living_2025_dach.csv\", index=False)"
   ],
   "id": "c8bae265e125a25b"
  }
 ],
 "metadata": {
  "kernelspec": {
   "display_name": "Python 3",
   "language": "python",
   "name": "python3"
  },
  "language_info": {
   "codemirror_mode": {
    "name": "ipython",
    "version": 2
   },
   "file_extension": ".py",
   "mimetype": "text/x-python",
   "name": "python",
   "nbconvert_exporter": "python",
   "pygments_lexer": "ipython2",
   "version": "2.7.6"
  }
 },
 "nbformat": 4,
 "nbformat_minor": 5
}
