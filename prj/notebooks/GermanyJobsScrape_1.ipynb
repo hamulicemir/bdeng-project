{
 "cells": [
  {
   "cell_type": "code",
   "id": "initial_id",
   "metadata": {
    "jupyter": {
     "is_executing": true
    }
   },
   "source": [
    "from selenium import webdriver\n",
    "from selenium.webdriver.firefox.options import Options\n",
    "from selenium.webdriver.firefox.service import Service\n",
    "from selenium.webdriver.common.by import By\n",
    "from selenium.webdriver.support.ui import WebDriverWait\n",
    "from selenium.webdriver.support import expected_conditions as EC\n",
    "from selenium.common.exceptions import TimeoutException\n",
    "from webdriver_manager.firefox import GeckoDriverManager\n",
    "from bs4 import BeautifulSoup\n",
    "import pandas as pd\n",
    "import re\n",
    "import time"
   ],
   "outputs": [],
   "execution_count": null
  },
  {
   "cell_type": "code",
   "id": "dbedc031e59ac65d",
   "metadata": {},
   "source": [
    "def login_stepstone(driver, email, password):\n",
    "    driver.get(\"https://www.stepstone.de/de-DE/candidate/login\")\n",
    "    wait = WebDriverWait(driver, 10)\n",
    "\n",
    "    try:\n",
    "        # Cookie-Consent akzeptieren\n",
    "        accept_button = wait.until(\n",
    "            EC.element_to_be_clickable(\n",
    "                (By.CSS_SELECTOR, \".privacy-prompt-button.primary-button.ccmgt_accept_button.rebrand\")\n",
    "            )\n",
    "        )\n",
    "        accept_button.click()\n",
    "        print(\"Cookie-Consent akzeptiert.\")\n",
    "        time.sleep(1)\n",
    "    except Exception:\n",
    "        print(\"Cookie-Consent Button nicht gefunden oder schon akzeptiert.\")\n",
    "\n",
    "    # E-Mail und Passwort eintragen\n",
    "    email_input = wait.until(EC.presence_of_element_located((By.CLASS_NAME, \"gp-x82nov\")))\n",
    "    password_input = driver.find_element(By.CLASS_NAME, \"gp-1yn6g5s\")\n",
    "\n",
    "    email_input.clear()\n",
    "    email_input.send_keys(email)\n",
    "    password_input.clear()\n",
    "    password_input.send_keys(password)\n",
    "\n",
    "    # Login-Button klicken\n",
    "    login_button = driver.find_element(By.CLASS_NAME, \"gp-1ijlosx\")\n",
    "    login_button.click()\n",
    "\n",
    "    # Warten bis Profil-Link sichtbar (Login erfolgreich)\n",
    "    print(\"Login erfolgreich!\")"
   ],
   "outputs": [],
   "execution_count": null
  },
  {
   "cell_type": "code",
   "id": "78381b2d8de01a60",
   "metadata": {},
   "source": [
    "def parse_salary(clean_text):\n",
    "    # Vorverarbeitung: z.B. Klammern entfernen\n",
    "    clean_text = clean_text.replace('\\xa0', ' ').strip()\n",
    "    clean_text = re.sub(r\"\\(.*?\\)\", \"\", clean_text).strip()\n",
    "\n",
    "    pattern = r\"\"\"\n",
    "        (?:ab\\s*)?\n",
    "        (\\d{1,3}(?:\\.?\\d{3})*(?:,\\d{1,2})?)\n",
    "        [\\s\\u00a0]*€[\\s\\u00a0]*\n",
    "        (?:[-–—]\\s*\n",
    "        (\\d{1,3}(?:\\.?\\d{3})*(?:,\\d{1,2})?)\\s*€\\s*)?\n",
    "        (monatlich|jährlich)?\n",
    "    \"\"\"\n",
    "\n",
    "    match = re.search(pattern, clean_text, re.IGNORECASE | re.VERBOSE)\n",
    "    if not match:\n",
    "        return \"keine Angabe\"\n",
    "\n",
    "    try:\n",
    "        def parse_euro_number(num_str):\n",
    "            num_str = num_str.replace('.', '').replace(',', '.')\n",
    "            return float(num_str)\n",
    "\n",
    "        lower = parse_euro_number(match.group(1))\n",
    "        upper = parse_euro_number(match.group(2)) if match.group(2) else lower\n",
    "        avg_salary = (lower + upper) / 2\n",
    "\n",
    "        zeitraum = match.group(3).lower() if match.group(3) else \"jährlich\"\n",
    "\n",
    "        if zeitraum == \"monatlich\":\n",
    "            avg_salary *= 14  # Jahresgehalt mit 14 Monatsgehältern\n",
    "\n",
    "        avg_salary = round(avg_salary)\n",
    "\n",
    "        #if avg_salary < 15000:  # Plausibilitätscheck\n",
    "        #   return \"keine Angabe\"\n",
    "\n",
    "        return str(avg_salary)\n",
    "    except:\n",
    "        return \"keine Angabe\""
   ],
   "outputs": [],
   "execution_count": null
  },
  {
   "cell_type": "code",
   "id": "96caec982c9b177d",
   "metadata": {},
   "source": [
    "def slugify(text: str) -> str:\n",
    "    \"\"\"Wandelt Text in URL-Slug um: lowercase, Leerzeichen→-, Umlaute→ ae/oe/ue, ß→ss\"\"\"\n",
    "    slug = text.replace(' ', '-')\n",
    "    return slug"
   ],
   "outputs": [],
   "execution_count": null
  },
  {
   "cell_type": "code",
   "id": "537d3df9-32f9-46fd-aa92-ce384f86fed9",
   "metadata": {},
   "source": [
    "def get_total_pages(driver):\n",
    "    \"\"\"Ermittelt die maximale Seitenzahl aus der Paginierung (unten auf der Seite).\"\"\"\n",
    "    try:\n",
    "        pagination = driver.find_elements(By.CSS_SELECTOR, \"nav.res-wc9x0t ul li button\")\n",
    "        pages = [int(btn.text) for btn in pagination if btn.text.isdigit()]\n",
    "        return max(pages) if pages else 1\n",
    "    except:\n",
    "        return 1"
   ],
   "outputs": [],
   "execution_count": null
  },
  {
   "cell_type": "code",
   "id": "212a0b32f8378f92",
   "metadata": {},
   "source": [
    "def scrape_jobs_stepstone(\n",
    "        driver,\n",
    "        query: str = \"data analyst\",\n",
    "        location: str = \"Berlin\",\n",
    "        radius: int = 30,\n",
    "        max_pages: int = 1\n",
    "):\n",
    "    jobs = []\n",
    "    wait = WebDriverWait(driver, 10)\n",
    "    job_slug = slugify(query)\n",
    "    loc_slug = location\n",
    "\n",
    "    base_url = (\n",
    "        \"https://www.stepstone.de/jobs/{job_slug}/\"\n",
    "        \"in-{loc_slug}?radius={radius}\"\n",
    "        \"&searchOrigin=Resultlist_top-search&page={page}\"\n",
    "    )\n",
    "\n",
    "    for page in range(1, max_pages + 1):\n",
    "        url = base_url.format(job_slug=job_slug, loc_slug=loc_slug, radius=radius, page=page)\n",
    "        print(f\"[Seite {page}] öffne: {url}\")\n",
    "        driver.get(url)\n",
    "\n",
    "        time.sleep(2)\n",
    "        cards = driver.find_elements(By.CSS_SELECTOR, \"div.res-aa3b6p\")\n",
    "        if not cards:\n",
    "            print(f\"Keine Jobkarten auf Seite {page}. Breche ab.\")\n",
    "            break\n",
    "\n",
    "        for card in cards:\n",
    "            try:\n",
    "                title = card.find_element(By.CSS_SELECTOR, \"div.res-ewgtgq\").text.strip()\n",
    "            except:\n",
    "                title = \"Unbekannt\"\n",
    "\n",
    "            try:\n",
    "                span = card.find_element(\n",
    "                    By.CSS_SELECTOR,\n",
    "                    \"div.res-5zx6ot span.res-1bl90s9\"\n",
    "                )\n",
    "                salary = parse_salary(span.text)\n",
    "            except:\n",
    "                salary = \"keine Angabe\"\n",
    "\n",
    "            # Ort von Stepstone nicht mehr extrahieren – wir setzen ihn manuell\n",
    "            jobs.append({\n",
    "                \"job_title\": title,\n",
    "                \"city\": location,    \n",
    "                \"country\": \"Germany\", \n",
    "                \"annual_salary\": salary\n",
    "\n",
    "            })\n",
    "\n",
    "        print(f\"Seite {page} abgeschlossen. Gesamtanzahl Jobs: {len(jobs)}\")\n",
    "\n",
    "    return jobs\n"
   ],
   "outputs": [],
   "execution_count": null
  },
  {
   "cell_type": "code",
   "id": "63b93626a3c9bae7",
   "metadata": {},
   "source": [
    "options = Options()\n",
    "options.headless = False\n",
    "service = Service(GeckoDriverManager().install())\n",
    "driver = webdriver.Firefox(service=service, options=options)\n",
    "email = \"wi23b056@technikum-wien.at\"\n",
    "password = \"Basinga321!\"\n",
    "\n",
    "# 1) Login\n",
    "login_stepstone(driver, email, password)\n",
    "time.sleep(5) # Wait for Login\n",
    "# 2) Scrape\n",
    "jobs_berlin = scrape_jobs_stepstone(driver, query=\"Data Scientist\", location=\"Berlin\", radius=30, max_pages=5)\n",
    "jobs_hamburg = scrape_jobs_stepstone(driver, query=\"Data Scientist\", location=\"Hamburg\", radius=30, max_pages=5)\n",
    "jobs_muenchen = scrape_jobs_stepstone(driver, query=\"Data Scientist\", location=\"München\", radius=30, max_pages=5)\n",
    "jobs_koeln = scrape_jobs_stepstone(driver, query=\"Data Scientist\", location=\"Köln\", radius=30, max_pages=5)\n",
    "jobs_frankfurt = scrape_jobs_stepstone(driver, query=\"Data Scientist\", location=\"Frankfurt\", radius=30, max_pages=5)"
   ],
   "outputs": [],
   "execution_count": null
  },
  {
   "cell_type": "code",
   "id": "b65e1b860eff5456",
   "metadata": {
    "ExecuteTime": {
     "end_time": "2025-06-23T13:57:43.997901Z",
     "start_time": "2025-06-23T13:57:43.447575Z"
    }
   },
   "source": [
    "jobs = jobs_berlin + jobs_hamburg + jobs_muenchen + jobs_koeln + jobs_frankfurt\n",
    "df = pd.DataFrame(jobs)\n",
    "df.head(20)"
   ],
   "outputs": [
    {
     "ename": "NameError",
     "evalue": "name 'jobs_berlin' is not defined",
     "output_type": "error",
     "traceback": [
      "\u001B[1;31m---------------------------------------------------------------------------\u001B[0m",
      "\u001B[1;31mNameError\u001B[0m                                 Traceback (most recent call last)",
      "Cell \u001B[1;32mIn[1], line 1\u001B[0m\n\u001B[1;32m----> 1\u001B[0m jobs \u001B[38;5;241m=\u001B[39m jobs_berlin \u001B[38;5;241m+\u001B[39m jobs_hamburg \u001B[38;5;241m+\u001B[39m jobs_muenchen \u001B[38;5;241m+\u001B[39m jobs_koeln \u001B[38;5;241m+\u001B[39m jobs_frankfurt\n\u001B[0;32m      2\u001B[0m df \u001B[38;5;241m=\u001B[39m pd\u001B[38;5;241m.\u001B[39mDataFrame(jobs)\n\u001B[0;32m      3\u001B[0m df\u001B[38;5;241m.\u001B[39mhead(\u001B[38;5;241m20\u001B[39m)\n",
      "\u001B[1;31mNameError\u001B[0m: name 'jobs_berlin' is not defined"
     ]
    }
   ],
   "execution_count": 1
  },
  {
   "cell_type": "code",
   "id": "b6d709c8-fd41-4897-8a1b-3452fb3aa0f8",
   "metadata": {},
   "source": [
    "df.to_csv(\"data_scientist_germany_stepstone.csv\", index=False, encoding=\"utf-8-sig\")\n",
    "print(\"data_scientist_germany_stepstone.csv gespeichert\")"
   ],
   "outputs": [],
   "execution_count": null
  },
  {
   "cell_type": "code",
   "id": "dfed62890076a744",
   "metadata": {},
   "source": [
    "\"\"\"\n",
    "options = Options()\n",
    "email = \"wi23b056@technikum-wien.at\"\n",
    "password = \"Basinga321!\"\n",
    "options.add_argument('--headless')\n",
    "service = Service(GeckoDriverManager().install())\n",
    "driver = webdriver.Firefox(service=service, options=options)\n",
    "base_url = \"https://www.stepstone.de/jobs/data-analyst?page={page}&searchOrigin=membersarea\"\n",
    "login_stepstone(driver, email, password)\n",
    "time.sleep(3)\n",
    "url = base_url.format(page=1)\n",
    "print(f\"Scraping URL: {url}\")\n",
    "driver.get(url)\n",
    "soup = BeautifulSoup(driver.page_source, \"html.parser\")\n",
    "print(f\"HTML Code: {soup.prettify()}\")\n",
    "\"\"\""
   ],
   "outputs": [],
   "execution_count": null
  }
 ],
 "metadata": {
  "kernelspec": {
   "display_name": "Python [conda env:base] *",
   "language": "python",
   "name": "conda-base-py"
  },
  "language_info": {
   "codemirror_mode": {
    "name": "ipython",
    "version": 3
   },
   "file_extension": ".py",
   "mimetype": "text/x-python",
   "name": "python",
   "nbconvert_exporter": "python",
   "pygments_lexer": "ipython3",
   "version": "3.12.7"
  }
 },
 "nbformat": 4,
 "nbformat_minor": 5
}
