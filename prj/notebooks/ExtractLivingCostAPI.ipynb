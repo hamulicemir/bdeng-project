{
 "cells": [
  {
   "metadata": {},
   "cell_type": "markdown",
   "source": "# Cost of Living Datenanalyse - Jupyter Notebook mit API-Abfrage",
   "id": "321d6d135c4fecb1"
  },
  {
   "metadata": {
    "ExecuteTime": {
     "end_time": "2025-06-22T11:27:59.080429Z",
     "start_time": "2025-06-22T11:27:58.948313Z"
    }
   },
   "cell_type": "code",
   "source": [
    "import requests\n",
    "import time\n",
    "import json\n",
    "import os"
   ],
   "id": "3ec09866b18e94e9",
   "outputs": [],
   "execution_count": 1
  },
  {
   "metadata": {
    "ExecuteTime": {
     "end_time": "2025-06-22T11:28:07.191418Z",
     "start_time": "2025-06-22T11:28:07.181882Z"
    }
   },
   "cell_type": "code",
   "source": [
    "API_KEY = \"\" # insert key here!\n",
    "headers = {\n",
    "    \"Authorization\": f\"Bearer {API_KEY}\"\n",
    "}\n",
    "\n",
    "cities = [\n",
    "    {\"city\": \"vienna\", \"country\": \"austria\"},\n",
    "    {\"city\": \"graz\", \"country\": \"austria\"},\n",
    "    {\"city\": \"linz\", \"country\": \"austria\"},\n",
    "    {\"city\": \"salzburg\", \"country\": \"austria\"},\n",
    "\n",
    "    {\"city\": \"berlin\", \"country\": \"germany\"},\n",
    "    {\"city\": \"munich\", \"country\": \"germany\"},\n",
    "    {\"city\": \"hamburg\", \"country\": \"germany\"},\n",
    "    {\"city\": \"dusseldorf\", \"country\": \"germany\"},\n",
    "    {\"city\": \"frankfurt\", \"country\": \"germany\"},\n",
    "    {\"city\": \"hannover\", \"country\": \"germany\"},\n",
    "    {\"city\": \"nuremberg\", \"country\": \"germany\"},\n",
    "    {\"city\": \"essen\", \"country\": \"germany\"},\n",
    "    {\"city\": \"cologne\", \"country\": \"germany\"},\n",
    "\n",
    "    {\"city\": \"bern\", \"country\": \"switzerland\"},\n",
    "    {\"city\": \"zurich\", \"country\": \"switzerland\"},\n",
    "    {\"city\": \"geneva\", \"country\": \"switzerland\"},\n",
    "    {\"city\": \"basel\", \"country\": \"switzerland\"}\n",
    "]"
   ],
   "id": "120567e06070155e",
   "outputs": [],
   "execution_count": 2
  },
  {
   "metadata": {},
   "cell_type": "markdown",
   "source": "## Define Output Path for the json file",
   "id": "75adc31848f1163"
  },
  {
   "metadata": {
    "ExecuteTime": {
     "end_time": "2025-06-22T11:28:10.188936Z",
     "start_time": "2025-06-22T11:28:10.184947Z"
    }
   },
   "cell_type": "code",
   "source": "output_path = \"cost_of_living_raw.json\"",
   "id": "ace4df1ada6bce15",
   "outputs": [],
   "execution_count": 3
  },
  {
   "metadata": {},
   "cell_type": "markdown",
   "source": "## Send request to the API and saving",
   "id": "4c4d4cb642cfaf04"
  },
  {
   "metadata": {
    "ExecuteTime": {
     "end_time": "2025-06-22T11:28:45.200385Z",
     "start_time": "2025-06-22T11:28:13.390066Z"
    }
   },
   "cell_type": "code",
   "source": [
    "results = []\n",
    "for loc in cities:\n",
    "    params = {\"city\": loc[\"city\"], \"country\": loc[\"country\"]}\n",
    "    response = requests.get(\n",
    "        \"https://zylalabs.com/api/3440/world+cost+of+living+api/3745/get+prices\",\n",
    "        headers=headers,\n",
    "        params=params\n",
    "    )\n",
    "    if response.status_code == 200:\n",
    "        data = response.json()\n",
    "        data[\"city\"] = loc[\"city\"]\n",
    "        data[\"country\"] = loc[\"country\"]\n",
    "        data[\"timestamp\"] = time.time()\n",
    "        results.append(data)\n",
    "    else:\n",
    "        print(f\"Fehler bei {loc['city']}: {response.status_code}\")\n",
    "    time.sleep(1)"
   ],
   "id": "94cd1b18fbbacce7",
   "outputs": [],
   "execution_count": 4
  },
  {
   "metadata": {},
   "cell_type": "markdown",
   "source": "## Sava as JSON",
   "id": "52a1b97a1ee2038e"
  },
  {
   "metadata": {
    "ExecuteTime": {
     "end_time": "2025-06-22T11:28:52.076910Z",
     "start_time": "2025-06-22T11:28:52.067372Z"
    }
   },
   "cell_type": "code",
   "source": [
    "with open(output_path, \"w\", encoding=\"utf-8\") as f:\n",
    "    json.dump(results, f, indent=2, ensure_ascii=False)\n",
    "\n",
    "print(f\"{len(results)} Datensätze gespeichert in '{output_path}'\")"
   ],
   "id": "5c2a9a62771932c4",
   "outputs": [
    {
     "name": "stdout",
     "output_type": "stream",
     "text": [
      "17 Datensätze gespeichert in 'cost_of_living_raw.json'\n"
     ]
    }
   ],
   "execution_count": 5
  }
 ],
 "metadata": {
  "kernelspec": {
   "display_name": "Python 3",
   "language": "python",
   "name": "python3"
  },
  "language_info": {
   "codemirror_mode": {
    "name": "ipython",
    "version": 2
   },
   "file_extension": ".py",
   "mimetype": "text/x-python",
   "name": "python",
   "nbconvert_exporter": "python",
   "pygments_lexer": "ipython2",
   "version": "2.7.6"
  }
 },
 "nbformat": 4,
 "nbformat_minor": 5
}
