{
 "cells": [
  {
   "cell_type": "code",
   "id": "initial_id",
   "metadata": {
    "ExecuteTime": {
     "end_time": "2025-06-23T21:20:59.452956Z",
     "start_time": "2025-06-23T21:20:59.449443Z"
    }
   },
   "source": [
    "import pandas as pd\n",
    "import folium\n",
    "from folium.plugins import HeatMap\n",
    "from branca.element import Template, MacroElement"
   ],
   "outputs": [],
   "execution_count": 13
  },
  {
   "metadata": {
    "ExecuteTime": {
     "end_time": "2025-06-23T21:20:59.482764Z",
     "start_time": "2025-06-23T21:20:59.474191Z"
    }
   },
   "cell_type": "code",
   "source": [
    "# CSV-Datei laden\n",
    "file_path = \"../output/ScrapedJobOffersAllCleaned.csv\"\n",
    "df = pd.read_csv(file_path)"
   ],
   "id": "58073e73ff9bf696",
   "outputs": [],
   "execution_count": 14
  },
  {
   "cell_type": "code",
   "id": "835ce14f7b88f6d5",
   "metadata": {
    "ExecuteTime": {
     "end_time": "2025-06-23T21:20:59.505274Z",
     "start_time": "2025-06-23T21:20:59.497907Z"
    }
   },
   "source": [
    "# Relevante Rollen erkennen\n",
    "def extract_data_role(title):\n",
    "    title = str(title).lower()\n",
    "    if \"analyst\" in title:\n",
    "        return \"Data Analyst\"\n",
    "    elif \"engineer\" in title:\n",
    "        return \"Data Engineer\"\n",
    "    elif \"scientist\" in title:\n",
    "        return \"Data Scientist\"\n",
    "    return None\n",
    "\n",
    "df['data_role'] = df['job_title'].apply(extract_data_role)\n",
    "df_filtered = df[df['data_role'].notnull()].copy()"
   ],
   "outputs": [],
   "execution_count": 15
  },
  {
   "metadata": {
    "ExecuteTime": {
     "end_time": "2025-06-23T21:20:59.515429Z",
     "start_time": "2025-06-23T21:20:59.510340Z"
    }
   },
   "cell_type": "code",
   "source": [
    "job_counts = df_filtered.groupby('city').size().reset_index(name='count')\n",
    "\n",
    "# Nur Österreich-Städte\n",
    "austria_cities = ['Wien', 'Linz', 'Graz', 'Salzburg', 'Innsbruck']\n",
    "austria_jobs = job_counts[job_counts['city'].isin(austria_cities)].copy()"
   ],
   "id": "304ee85431c284a3",
   "outputs": [],
   "execution_count": 16
  },
  {
   "metadata": {
    "ExecuteTime": {
     "end_time": "2025-06-23T21:20:59.533048Z",
     "start_time": "2025-06-23T21:20:59.527018Z"
    }
   },
   "cell_type": "code",
   "source": [
    "# Feste Koordinaten für Städte\n",
    "city_coords = {\n",
    "    \"Wien\": (48.2082, 16.3738),\n",
    "    \"Linz\": (48.3069, 14.2858),\n",
    "    \"Graz\": (47.0707, 15.4395),\n",
    "    \"Salzburg\": (47.8095, 13.0550),\n",
    "    \"Innsbruck\": (47.2682, 11.3923),\n",
    "}\n",
    "\n",
    "# Koordinaten zuordnen\n",
    "austria_jobs[\"lat\"] = austria_jobs[\"city\"].map(lambda c: city_coords[c][0])\n",
    "austria_jobs[\"lon\"] = austria_jobs[\"city\"].map(lambda c: city_coords[c][1])\n"
   ],
   "id": "53263cfbde1c7eb6",
   "outputs": [],
   "execution_count": 17
  },
  {
   "metadata": {
    "ExecuteTime": {
     "end_time": "2025-06-23T21:20:59.555177Z",
     "start_time": "2025-06-23T21:20:59.545172Z"
    }
   },
   "cell_type": "code",
   "source": [
    "# HeatMap-Daten vorbereiten\n",
    "heat_data = [\n",
    "    [row['lat'], row['lon'], row['count']]\n",
    "    for _, row in austria_jobs.iterrows()\n",
    "]\n",
    "\n",
    "# Karte erstellen\n",
    "m = folium.Map(location=[47.5, 14.5], zoom_start=7, tiles=\"CartoDB dark_matter\")\n",
    "\n",
    "# Heatmap einfügen\n",
    "HeatMap(\n",
    "    heat_data,\n",
    "    radius=35,  # Größerer Radius = weniger punktuell\n",
    "    blur=20,  # Weichere Übergänge\n",
    "    max_zoom=10,\n",
    "    min_opacity=0.4  # Sichtbarer bei geringeren Werten\n",
    ").add_to(m)\n"
   ],
   "id": "cc76a8671e2f70c3",
   "outputs": [
    {
     "data": {
      "text/plain": [
       "<folium.plugins.heat_map.HeatMap at 0x1ca15d37e30>"
      ]
     },
     "execution_count": 18,
     "metadata": {},
     "output_type": "execute_result"
    }
   ],
   "execution_count": 18
  },
  {
   "metadata": {
    "ExecuteTime": {
     "end_time": "2025-06-23T21:20:59.579407Z",
     "start_time": "2025-06-23T21:20:59.567861Z"
    }
   },
   "cell_type": "code",
   "source": [
    "# HTML/CSS-Legende einfügen\n",
    "legend_html = \"\"\"\n",
    "{% macro html(this, kwargs) %}\n",
    "<div style=\"\n",
    "    position: fixed;\n",
    "    bottom: 40px; left: 40px; width: 160px; height: 120px;\n",
    "    z-index:9999; font-size:14px;\n",
    "    background-color: rgba(0, 0, 0, 0.6);\n",
    "    padding: 10px;\n",
    "    border-radius: 5px;\n",
    "    color: white;\n",
    "\">\n",
    "<b>Heatmap-Legende</b><br>\n",
    "<span style=\"background: #ffffb2; width: 15px; height: 15px; display:inline-block;\"></span> Wenige Jobs<br>\n",
    "<span style=\"background: #fecc5c; width: 15px; height: 15px; display:inline-block;\"></span> Mittel<br>\n",
    "<span style=\"background: #fd8d3c; width: 15px; height: 15px; display:inline-block;\"></span> Viele Jobs<br>\n",
    "<span style=\"background: #e31a1c; width: 15px; height: 15px; display:inline-block;\"></span> Sehr viele Jobs\n",
    "</div>\n",
    "{% endmacro %}\n",
    "\"\"\"\n",
    "\n",
    "legend = MacroElement()\n",
    "legend._template = Template(legend_html)\n",
    "m.get_root().add_child(legend)\n"
   ],
   "id": "18a9abb5136de813",
   "outputs": [
    {
     "data": {
      "text/plain": [
       "<branca.element.Figure at 0x1ca15d37740>"
      ],
      "text/html": [
       "<div style=\"width:100%;\"><div style=\"position:relative;width:100%;height:0;padding-bottom:60%;\"><span style=\"color:#565656\">Make this Notebook Trusted to load map: File -> Trust Notebook</span><iframe srcdoc=\"&lt;!DOCTYPE html&gt;\n",
       "&lt;html&gt;\n",
       "&lt;head&gt;\n",
       "    \n",
       "    &lt;meta http-equiv=&quot;content-type&quot; content=&quot;text/html; charset=UTF-8&quot; /&gt;\n",
       "    &lt;script src=&quot;https://cdn.jsdelivr.net/npm/leaflet@1.9.3/dist/leaflet.js&quot;&gt;&lt;/script&gt;\n",
       "    &lt;script src=&quot;https://code.jquery.com/jquery-3.7.1.min.js&quot;&gt;&lt;/script&gt;\n",
       "    &lt;script src=&quot;https://cdn.jsdelivr.net/npm/bootstrap@5.2.2/dist/js/bootstrap.bundle.min.js&quot;&gt;&lt;/script&gt;\n",
       "    &lt;script src=&quot;https://cdnjs.cloudflare.com/ajax/libs/Leaflet.awesome-markers/2.0.2/leaflet.awesome-markers.js&quot;&gt;&lt;/script&gt;\n",
       "    &lt;link rel=&quot;stylesheet&quot; href=&quot;https://cdn.jsdelivr.net/npm/leaflet@1.9.3/dist/leaflet.css&quot;/&gt;\n",
       "    &lt;link rel=&quot;stylesheet&quot; href=&quot;https://cdn.jsdelivr.net/npm/bootstrap@5.2.2/dist/css/bootstrap.min.css&quot;/&gt;\n",
       "    &lt;link rel=&quot;stylesheet&quot; href=&quot;https://netdna.bootstrapcdn.com/bootstrap/3.0.0/css/bootstrap-glyphicons.css&quot;/&gt;\n",
       "    &lt;link rel=&quot;stylesheet&quot; href=&quot;https://cdn.jsdelivr.net/npm/@fortawesome/fontawesome-free@6.2.0/css/all.min.css&quot;/&gt;\n",
       "    &lt;link rel=&quot;stylesheet&quot; href=&quot;https://cdnjs.cloudflare.com/ajax/libs/Leaflet.awesome-markers/2.0.2/leaflet.awesome-markers.css&quot;/&gt;\n",
       "    &lt;link rel=&quot;stylesheet&quot; href=&quot;https://cdn.jsdelivr.net/gh/python-visualization/folium/folium/templates/leaflet.awesome.rotate.min.css&quot;/&gt;\n",
       "    \n",
       "            &lt;meta name=&quot;viewport&quot; content=&quot;width=device-width,\n",
       "                initial-scale=1.0, maximum-scale=1.0, user-scalable=no&quot; /&gt;\n",
       "            &lt;style&gt;\n",
       "                #map_e1b31f93473c2bb1d02bc7a538ccb0e5 {\n",
       "                    position: relative;\n",
       "                    width: 100.0%;\n",
       "                    height: 100.0%;\n",
       "                    left: 0.0%;\n",
       "                    top: 0.0%;\n",
       "                }\n",
       "                .leaflet-container { font-size: 1rem; }\n",
       "            &lt;/style&gt;\n",
       "\n",
       "            &lt;style&gt;html, body {\n",
       "                width: 100%;\n",
       "                height: 100%;\n",
       "                margin: 0;\n",
       "                padding: 0;\n",
       "            }\n",
       "            &lt;/style&gt;\n",
       "\n",
       "            &lt;style&gt;#map {\n",
       "                position:absolute;\n",
       "                top:0;\n",
       "                bottom:0;\n",
       "                right:0;\n",
       "                left:0;\n",
       "                }\n",
       "            &lt;/style&gt;\n",
       "\n",
       "            &lt;script&gt;\n",
       "                L_NO_TOUCH = false;\n",
       "                L_DISABLE_3D = false;\n",
       "            &lt;/script&gt;\n",
       "\n",
       "        \n",
       "    &lt;script src=&quot;https://cdn.jsdelivr.net/gh/python-visualization/folium@main/folium/templates/leaflet_heat.min.js&quot;&gt;&lt;/script&gt;\n",
       "&lt;/head&gt;\n",
       "&lt;body&gt;\n",
       "    \n",
       "    \n",
       "            &lt;div class=&quot;folium-map&quot; id=&quot;map_e1b31f93473c2bb1d02bc7a538ccb0e5&quot; &gt;&lt;/div&gt;\n",
       "        \n",
       "    \n",
       "&lt;div style=&quot;\n",
       "    position: fixed;\n",
       "    bottom: 40px; left: 40px; width: 160px; height: 120px;\n",
       "    z-index:9999; font-size:14px;\n",
       "    background-color: rgba(0, 0, 0, 0.6);\n",
       "    padding: 10px;\n",
       "    border-radius: 5px;\n",
       "    color: white;\n",
       "&quot;&gt;\n",
       "&lt;b&gt;Heatmap-Legende&lt;/b&gt;&lt;br&gt;\n",
       "&lt;span style=&quot;background: #ffffb2; width: 15px; height: 15px; display:inline-block;&quot;&gt;&lt;/span&gt; Wenige Jobs&lt;br&gt;\n",
       "&lt;span style=&quot;background: #fecc5c; width: 15px; height: 15px; display:inline-block;&quot;&gt;&lt;/span&gt; Mittel&lt;br&gt;\n",
       "&lt;span style=&quot;background: #fd8d3c; width: 15px; height: 15px; display:inline-block;&quot;&gt;&lt;/span&gt; Viele Jobs&lt;br&gt;\n",
       "&lt;span style=&quot;background: #e31a1c; width: 15px; height: 15px; display:inline-block;&quot;&gt;&lt;/span&gt; Sehr viele Jobs\n",
       "&lt;/div&gt;\n",
       "&lt;/body&gt;\n",
       "&lt;script&gt;\n",
       "    \n",
       "    \n",
       "            var map_e1b31f93473c2bb1d02bc7a538ccb0e5 = L.map(\n",
       "                &quot;map_e1b31f93473c2bb1d02bc7a538ccb0e5&quot;,\n",
       "                {\n",
       "                    center: [47.5, 14.5],\n",
       "                    crs: L.CRS.EPSG3857,\n",
       "                    ...{\n",
       "  &quot;zoom&quot;: 7,\n",
       "  &quot;zoomControl&quot;: true,\n",
       "  &quot;preferCanvas&quot;: false,\n",
       "}\n",
       "\n",
       "                }\n",
       "            );\n",
       "\n",
       "            \n",
       "\n",
       "        \n",
       "    \n",
       "            var tile_layer_c7ed66c42a30d5987f4deb7c8142567a = L.tileLayer(\n",
       "                &quot;https://{s}.basemaps.cartocdn.com/dark_all/{z}/{x}/{y}{r}.png&quot;,\n",
       "                {\n",
       "  &quot;minZoom&quot;: 0,\n",
       "  &quot;maxZoom&quot;: 20,\n",
       "  &quot;maxNativeZoom&quot;: 20,\n",
       "  &quot;noWrap&quot;: false,\n",
       "  &quot;attribution&quot;: &quot;\\u0026copy; \\u003ca href=\\&quot;https://www.openstreetmap.org/copyright\\&quot;\\u003eOpenStreetMap\\u003c/a\\u003e contributors \\u0026copy; \\u003ca href=\\&quot;https://carto.com/attributions\\&quot;\\u003eCARTO\\u003c/a\\u003e&quot;,\n",
       "  &quot;subdomains&quot;: &quot;abcd&quot;,\n",
       "  &quot;detectRetina&quot;: false,\n",
       "  &quot;tms&quot;: false,\n",
       "  &quot;opacity&quot;: 1,\n",
       "}\n",
       "\n",
       "            );\n",
       "        \n",
       "    \n",
       "            tile_layer_c7ed66c42a30d5987f4deb7c8142567a.addTo(map_e1b31f93473c2bb1d02bc7a538ccb0e5);\n",
       "        \n",
       "    \n",
       "            var heat_map_18fc9089afff9338b18138d7d1d8fca9 = L.heatLayer(\n",
       "                [[47.0707, 15.4395, 35], [47.2682, 11.3923, 6], [48.3069, 14.2858, 17], [47.8095, 13.055, 13], [48.2082, 16.3738, 75]],\n",
       "                {\n",
       "  &quot;minOpacity&quot;: 0.4,\n",
       "  &quot;maxZoom&quot;: 10,\n",
       "  &quot;radius&quot;: 35,\n",
       "  &quot;blur&quot;: 20,\n",
       "}\n",
       "            );\n",
       "        \n",
       "    \n",
       "            heat_map_18fc9089afff9338b18138d7d1d8fca9.addTo(map_e1b31f93473c2bb1d02bc7a538ccb0e5);\n",
       "        \n",
       "&lt;/script&gt;\n",
       "&lt;/html&gt;\" style=\"position:absolute;width:100%;height:100%;left:0;top:0;border:none !important;\" allowfullscreen webkitallowfullscreen mozallowfullscreen></iframe></div></div>"
      ]
     },
     "execution_count": 19,
     "metadata": {},
     "output_type": "execute_result"
    }
   ],
   "execution_count": 19
  },
  {
   "metadata": {
    "ExecuteTime": {
     "end_time": "2025-06-23T21:20:59.612960Z",
     "start_time": "2025-06-23T21:20:59.604362Z"
    }
   },
   "cell_type": "code",
   "source": [
    "# Karte speichern\n",
    "m.save(\"austria_heatmap.html\")\n"
   ],
   "id": "fa20df19d87ea483",
   "outputs": [],
   "execution_count": 20
  }
 ],
 "metadata": {
  "kernelspec": {
   "display_name": "Python [conda env:base] *",
   "language": "python",
   "name": "conda-base-py"
  },
  "language_info": {
   "codemirror_mode": {
    "name": "ipython",
    "version": 3
   },
   "file_extension": ".py",
   "mimetype": "text/x-python",
   "name": "python",
   "nbconvert_exporter": "python",
   "pygments_lexer": "ipython3",
   "version": "3.12.7"
  }
 },
 "nbformat": 4,
 "nbformat_minor": 5
}
