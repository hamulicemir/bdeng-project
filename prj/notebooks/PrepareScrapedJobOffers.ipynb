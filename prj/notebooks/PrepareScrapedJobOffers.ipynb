{
 "cells": [
  {
   "cell_type": "code",
   "id": "initial_id",
   "metadata": {
    "collapsed": true,
    "ExecuteTime": {
     "end_time": "2025-06-22T11:59:35.651954Z",
     "start_time": "2025-06-22T11:59:35.630677Z"
    }
   },
   "source": [
    "import pandas as pd\n",
    "import numpy as np\n",
    "\n",
    "df_analyst_wien_karriereat = pd.read_csv('../output/analyst_wien_karriereat.csv')\n",
    "df_engineer_wien_karriereat = pd.read_csv('../output/engineer_wien_karriereat.csv')\n",
    "df_scientist_wien_karriereat = pd.read_csv('../output/scientist_wien_karriereat.csv')"
   ],
   "outputs": [],
   "execution_count": 21
  },
  {
   "metadata": {
    "ExecuteTime": {
     "end_time": "2025-06-22T11:59:35.669421Z",
     "start_time": "2025-06-22T11:59:35.658711Z"
    }
   },
   "cell_type": "code",
   "source": [
    "df_jobs = pd.concat([\n",
    "    df_analyst_wien_karriereat,\n",
    "    df_engineer_wien_karriereat,\n",
    "    df_scientist_wien_karriereat\n",
    "], ignore_index=True)\n",
    "df_jobs['city'] = df_jobs['city'].replace('Wien', 'Vienna')\n",
    "df_jobs['salary_annual'] = df_jobs['salary_annual'].replace('keine Angabe', pd.NA)\n",
    "df_jobs['salary_annual'] = df_jobs['salary_annual'].replace('keine Angabe', pd.NA)\n",
    "df_jobs['salary_annual'] = pd.to_numeric(df_jobs['salary_annual'], errors='coerce')\n",
    "df_jobs = df_jobs[(df_jobs['salary_annual'] > 20000) & (df_jobs['salary_annual'] < 150000)]"
   ],
   "id": "2a4186b26ca26c84",
   "outputs": [],
   "execution_count": 22
  },
  {
   "metadata": {
    "ExecuteTime": {
     "end_time": "2025-06-22T11:59:35.697208Z",
     "start_time": "2025-06-22T11:59:35.689295Z"
    }
   },
   "cell_type": "code",
   "source": [
    "df_jobs.head(200)\n",
    "df_jobs.to_csv('../output/ScrapedJobOffersAustriaCleaned.csv', index=False)"
   ],
   "id": "c90e1293511f6875",
   "outputs": [],
   "execution_count": 23
  }
 ],
 "metadata": {
  "kernelspec": {
   "display_name": "Python 3",
   "language": "python",
   "name": "python3"
  },
  "language_info": {
   "codemirror_mode": {
    "name": "ipython",
    "version": 2
   },
   "file_extension": ".py",
   "mimetype": "text/x-python",
   "name": "python",
   "nbconvert_exporter": "python",
   "pygments_lexer": "ipython2",
   "version": "2.7.6"
  }
 },
 "nbformat": 4,
 "nbformat_minor": 5
}
