{
 "cells": [
  {
   "cell_type": "code",
   "id": "initial_id",
   "metadata": {
    "collapsed": true,
    "ExecuteTime": {
     "end_time": "2025-06-23T16:42:19.581517Z",
     "start_time": "2025-06-23T16:42:19.546517Z"
    }
   },
   "source": [
    "import pandas as pd\n",
    "import numpy as np\n",
    "\n",
    "df_jobs = pd.read_csv('../output/merged_all_scraped_jobs.csv')"
   ],
   "outputs": [],
   "execution_count": 10
  },
  {
   "metadata": {
    "ExecuteTime": {
     "end_time": "2025-06-23T16:42:19.605096Z",
     "start_time": "2025-06-23T16:42:19.586249Z"
    }
   },
   "cell_type": "code",
   "source": [
    "df_jobs['city'] = df_jobs['city'].replace('Vienna', 'Wien')\n",
    "df_jobs['annual_salary'] = df_jobs['annual_salary'].replace('keine Angabe', pd.NA)\n",
    "df_jobs['annual_salary'] = pd.to_numeric(df_jobs['annual_salary'], errors='coerce')\n",
    "df_jobs = df_jobs[(df_jobs['annual_salary'] > 20000) & (df_jobs['annual_salary'] < 150000)]\n",
    "df_jobs = df_jobs[df_jobs['job_title'] != 'Kein Jobtitel']"
   ],
   "id": "2a4186b26ca26c84",
   "outputs": [],
   "execution_count": 11
  },
  {
   "metadata": {
    "ExecuteTime": {
     "end_time": "2025-06-23T16:42:19.625101Z",
     "start_time": "2025-06-23T16:42:19.617429Z"
    }
   },
   "cell_type": "code",
   "source": "df_jobs.to_csv('../output/ScrapedJobOffersAustriaCleaned.csv', index=False)",
   "id": "c90e1293511f6875",
   "outputs": [],
   "execution_count": 12
  },
  {
   "metadata": {
    "ExecuteTime": {
     "end_time": "2025-06-23T16:42:19.660691Z",
     "start_time": "2025-06-23T16:42:19.652483Z"
    }
   },
   "cell_type": "code",
   "source": "df_jobs.head(2000)",
   "id": "19c96046dbecc6fe",
   "outputs": [
    {
     "data": {
      "text/plain": [
       "                                              job_title       city  country  \\\n",
       "0     IT Data Analyst (m/w/d) marktführendes Logisti...       Wien  Austria   \n",
       "1                                  Data Analyst (w/m/x)       Wien  Austria   \n",
       "2                                  Data Analyst (w/m/x)       Wien  Austria   \n",
       "3     Berufspraktikum mit Schwerpunkt Data Analytics...       Wien  Austria   \n",
       "4                     Data Analytics Specialist (m/w/x)       Wien  Austria   \n",
       "...                                                 ...        ...      ...   \n",
       "1673  SENIOR CONSULTANT SAP HANA, BUSINESS INTELLIGE...  Frankfurt  Germany   \n",
       "1674                 Data Scientist / AI Engineer (mwd)  Frankfurt  Germany   \n",
       "1675  Data Scientist / KI-Expert:in im Team Advanced...  Frankfurt  Germany   \n",
       "1676             Data Scientist / Data Engineer (m/w/d)  Frankfurt  Germany   \n",
       "1677  Senior Full Stack Entwickler:in Java, Spring B...  Frankfurt  Germany   \n",
       "\n",
       "      annual_salary  \n",
       "0           50500.0  \n",
       "1           70000.0  \n",
       "2           70000.0  \n",
       "3           26754.0  \n",
       "4           40000.0  \n",
       "...             ...  \n",
       "1673        64000.0  \n",
       "1674        77000.0  \n",
       "1675        78000.0  \n",
       "1676        73000.0  \n",
       "1677        77000.0  \n",
       "\n",
       "[1401 rows x 4 columns]"
      ],
      "text/html": [
       "<div>\n",
       "<style scoped>\n",
       "    .dataframe tbody tr th:only-of-type {\n",
       "        vertical-align: middle;\n",
       "    }\n",
       "\n",
       "    .dataframe tbody tr th {\n",
       "        vertical-align: top;\n",
       "    }\n",
       "\n",
       "    .dataframe thead th {\n",
       "        text-align: right;\n",
       "    }\n",
       "</style>\n",
       "<table border=\"1\" class=\"dataframe\">\n",
       "  <thead>\n",
       "    <tr style=\"text-align: right;\">\n",
       "      <th></th>\n",
       "      <th>job_title</th>\n",
       "      <th>city</th>\n",
       "      <th>country</th>\n",
       "      <th>annual_salary</th>\n",
       "    </tr>\n",
       "  </thead>\n",
       "  <tbody>\n",
       "    <tr>\n",
       "      <th>0</th>\n",
       "      <td>IT Data Analyst (m/w/d) marktführendes Logisti...</td>\n",
       "      <td>Wien</td>\n",
       "      <td>Austria</td>\n",
       "      <td>50500.0</td>\n",
       "    </tr>\n",
       "    <tr>\n",
       "      <th>1</th>\n",
       "      <td>Data Analyst (w/m/x)</td>\n",
       "      <td>Wien</td>\n",
       "      <td>Austria</td>\n",
       "      <td>70000.0</td>\n",
       "    </tr>\n",
       "    <tr>\n",
       "      <th>2</th>\n",
       "      <td>Data Analyst (w/m/x)</td>\n",
       "      <td>Wien</td>\n",
       "      <td>Austria</td>\n",
       "      <td>70000.0</td>\n",
       "    </tr>\n",
       "    <tr>\n",
       "      <th>3</th>\n",
       "      <td>Berufspraktikum mit Schwerpunkt Data Analytics...</td>\n",
       "      <td>Wien</td>\n",
       "      <td>Austria</td>\n",
       "      <td>26754.0</td>\n",
       "    </tr>\n",
       "    <tr>\n",
       "      <th>4</th>\n",
       "      <td>Data Analytics Specialist (m/w/x)</td>\n",
       "      <td>Wien</td>\n",
       "      <td>Austria</td>\n",
       "      <td>40000.0</td>\n",
       "    </tr>\n",
       "    <tr>\n",
       "      <th>...</th>\n",
       "      <td>...</td>\n",
       "      <td>...</td>\n",
       "      <td>...</td>\n",
       "      <td>...</td>\n",
       "    </tr>\n",
       "    <tr>\n",
       "      <th>1673</th>\n",
       "      <td>SENIOR CONSULTANT SAP HANA, BUSINESS INTELLIGE...</td>\n",
       "      <td>Frankfurt</td>\n",
       "      <td>Germany</td>\n",
       "      <td>64000.0</td>\n",
       "    </tr>\n",
       "    <tr>\n",
       "      <th>1674</th>\n",
       "      <td>Data Scientist / AI Engineer (mwd)</td>\n",
       "      <td>Frankfurt</td>\n",
       "      <td>Germany</td>\n",
       "      <td>77000.0</td>\n",
       "    </tr>\n",
       "    <tr>\n",
       "      <th>1675</th>\n",
       "      <td>Data Scientist / KI-Expert:in im Team Advanced...</td>\n",
       "      <td>Frankfurt</td>\n",
       "      <td>Germany</td>\n",
       "      <td>78000.0</td>\n",
       "    </tr>\n",
       "    <tr>\n",
       "      <th>1676</th>\n",
       "      <td>Data Scientist / Data Engineer (m/w/d)</td>\n",
       "      <td>Frankfurt</td>\n",
       "      <td>Germany</td>\n",
       "      <td>73000.0</td>\n",
       "    </tr>\n",
       "    <tr>\n",
       "      <th>1677</th>\n",
       "      <td>Senior Full Stack Entwickler:in Java, Spring B...</td>\n",
       "      <td>Frankfurt</td>\n",
       "      <td>Germany</td>\n",
       "      <td>77000.0</td>\n",
       "    </tr>\n",
       "  </tbody>\n",
       "</table>\n",
       "<p>1401 rows × 4 columns</p>\n",
       "</div>"
      ]
     },
     "execution_count": 13,
     "metadata": {},
     "output_type": "execute_result"
    }
   ],
   "execution_count": 13
  }
 ],
 "metadata": {
  "kernelspec": {
   "display_name": "Python 3",
   "language": "python",
   "name": "python3"
  },
  "language_info": {
   "codemirror_mode": {
    "name": "ipython",
    "version": 2
   },
   "file_extension": ".py",
   "mimetype": "text/x-python",
   "name": "python",
   "nbconvert_exporter": "python",
   "pygments_lexer": "ipython2",
   "version": "2.7.6"
  }
 },
 "nbformat": 4,
 "nbformat_minor": 5
}
