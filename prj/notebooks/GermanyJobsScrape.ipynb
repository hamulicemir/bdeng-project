{
 "cells": [
  {
   "metadata": {
    "ExecuteTime": {
     "end_time": "2025-06-22T15:00:31.631098Z",
     "start_time": "2025-06-22T15:00:31.623832Z"
    }
   },
   "cell_type": "code",
   "source": [
    "from selenium import webdriver\n",
    "from selenium.webdriver.firefox.options import Options\n",
    "from selenium.webdriver.firefox.service import Service\n",
    "from selenium.webdriver.common.by import By\n",
    "from selenium.webdriver.support.ui import WebDriverWait\n",
    "from selenium.webdriver.support import expected_conditions as EC\n",
    "from webdriver_manager.firefox import GeckoDriverManager\n",
    "from bs4 import BeautifulSoup\n",
    "import pandas as pd\n",
    "import re\n",
    "import time"
   ],
   "id": "afe18cce-f661-44e3-966a-f6253025b02a",
   "outputs": [],
   "execution_count": 37
  },
  {
   "cell_type": "code",
   "id": "cd7ee575-a612-410c-8d4b-0d201e220eb9",
   "metadata": {
    "ExecuteTime": {
     "end_time": "2025-06-22T15:00:31.641658Z",
     "start_time": "2025-06-22T15:00:31.637570Z"
    }
   },
   "source": [
    "def login_stepstone(driver, email, password):\n",
    "    driver.get(\"https://www.stepstone.de/de-DE/candidate/login\")\n",
    "    wait = WebDriverWait(driver, 10)\n",
    "\n",
    "    try:\n",
    "        # Cookie-Consent akzeptieren\n",
    "        accept_button = wait.until(\n",
    "            EC.element_to_be_clickable(\n",
    "                (By.CSS_SELECTOR, \".privacy-prompt-button.primary-button.ccmgt_accept_button.rebrand\")\n",
    "            )\n",
    "        )\n",
    "        accept_button.click()\n",
    "        print(\"Cookie-Consent akzeptiert.\")\n",
    "        time.sleep(1)\n",
    "    except Exception:\n",
    "        print(\"Cookie-Consent Button nicht gefunden oder schon akzeptiert.\")\n",
    "\n",
    "    # E-Mail und Passwort eintragen\n",
    "    email_input = wait.until(EC.presence_of_element_located((By.CLASS_NAME, \"gp-x82nov\")))\n",
    "    password_input = driver.find_element(By.CLASS_NAME, \"gp-1yn6g5s\")\n",
    "\n",
    "    email_input.clear()\n",
    "    email_input.send_keys(email)\n",
    "    password_input.clear()\n",
    "    password_input.send_keys(password)\n",
    "\n",
    "    # Login-Button klicken\n",
    "    login_button = driver.find_element(By.CLASS_NAME, \"gp-1ijlosx\")\n",
    "    login_button.click()\n",
    "\n",
    "    # Warten bis Profil-Link sichtbar (Login erfolgreich)\n",
    "    print(\"Login erfolgreich!\")"
   ],
   "outputs": [],
   "execution_count": 38
  },
  {
   "metadata": {
    "ExecuteTime": {
     "end_time": "2025-06-22T15:00:31.671935Z",
     "start_time": "2025-06-22T15:00:31.667172Z"
    }
   },
   "cell_type": "code",
   "source": [
    "def parse_salary(clean_text):\n",
    "    # Vorverarbeitung: z.B. Klammern entfernen\n",
    "    clean_text = clean_text.replace('\\xa0', ' ').strip()\n",
    "    clean_text = re.sub(r\"\\(.*?\\)\", \"\", clean_text).strip()\n",
    "\n",
    "    pattern = r\"\"\"\n",
    "        (?:ab\\s*)?\n",
    "        (\\d{1,3}(?:\\.?\\d{3})*(?:,\\d{1,2})?)\n",
    "        [\\s\\u00a0]*€[\\s\\u00a0]*\n",
    "        (?:[-–—]\\s*\n",
    "        (\\d{1,3}(?:\\.?\\d{3})*(?:,\\d{1,2})?)\\s*€\\s*)?\n",
    "        (monatlich|jährlich)?\n",
    "    \"\"\"\n",
    "\n",
    "    match = re.search(pattern, clean_text, re.IGNORECASE | re.VERBOSE)\n",
    "    if not match:\n",
    "        return \"keine Angabe\"\n",
    "\n",
    "    try:\n",
    "        def parse_euro_number(num_str):\n",
    "            num_str = num_str.replace('.', '').replace(',', '.')\n",
    "            return float(num_str)\n",
    "\n",
    "        lower = parse_euro_number(match.group(1))\n",
    "        upper = parse_euro_number(match.group(2)) if match.group(2) else lower\n",
    "        avg_salary = (lower + upper) / 2\n",
    "\n",
    "        zeitraum = match.group(3).lower() if match.group(3) else \"jährlich\"\n",
    "\n",
    "        if zeitraum == \"monatlich\":\n",
    "            avg_salary *= 14  # Jahresgehalt mit 14 Monatsgehältern\n",
    "\n",
    "        avg_salary = round(avg_salary)\n",
    "\n",
    "        #if avg_salary < 15000:  # Plausibilitätscheck\n",
    "         #   return \"keine Angabe\"\n",
    "\n",
    "        return str(avg_salary)\n",
    "    except:\n",
    "        return \"keine Angabe\""
   ],
   "id": "ae15e1f0-8273-41c9-abaa-a40eebbe6007",
   "outputs": [],
   "execution_count": 39
  },
  {
   "metadata": {
    "ExecuteTime": {
     "end_time": "2025-06-22T15:00:31.683753Z",
     "start_time": "2025-06-22T15:00:31.680872Z"
    }
   },
   "cell_type": "code",
   "source": [
    "def slugify(text: str) -> str:\n",
    "    \"\"\"Wandelt Text in URL-Slug um: lowercase, Leerzeichen→-, Umlaute→ ae/oe/ue, ß→ss\"\"\"\n",
    "    slug = text.replace(' ', '-')\n",
    "    return slug"
   ],
   "id": "baba3cbb4fa7bfc",
   "outputs": [],
   "execution_count": 40
  },
  {
   "metadata": {
    "ExecuteTime": {
     "end_time": "2025-06-22T15:00:31.698379Z",
     "start_time": "2025-06-22T15:00:31.692803Z"
    }
   },
   "cell_type": "code",
   "source": [
    "def scrape_jobs_stepstone(\n",
    "        driver,\n",
    "        query: str = \"data analyst\",\n",
    "        location: str = \"Berlin\",\n",
    "        radius: int = 30,\n",
    "        max_pages: int = 1\n",
    "):\n",
    "    jobs = []\n",
    "    wait = WebDriverWait(driver, 10)\n",
    "    job_slug = slugify(query)\n",
    "    loc_slug = location\n",
    "\n",
    "    # Basis-URL mit Platzhaltern für Query-Slug, Location-Slug, Radius und Seite\n",
    "    base_url = (\n",
    "        \"https://www.stepstone.de/jobs/{job_slug}/\"\n",
    "        \"in-{loc_slug}?radius={radius}\"\n",
    "        \"&searchOrigin=Resultlist_top-search&page={page}\"\n",
    "    )\n",
    "\n",
    "    for page in range(1, max_pages + 1):\n",
    "        url = base_url.format(\n",
    "            job_slug=job_slug,\n",
    "            loc_slug=loc_slug,\n",
    "            radius=radius,\n",
    "            page=page\n",
    "        )\n",
    "        print(f\"[Seite {page}] öffne: {url}\")\n",
    "        driver.get(url)\n",
    "\n",
    "        # Auf Laden der Job-Karten warten\n",
    "        wait.until(EC.presence_of_all_elements_located((By.CSS_SELECTOR, \"div.res-aa3b6p\")))\n",
    "        time.sleep(1)\n",
    "\n",
    "        cards = driver.find_elements(By.CSS_SELECTOR, \"div.res-aa3b6p\")\n",
    "\n",
    "        for idx, card in enumerate(cards, start=1):\n",
    "            # Job-Titel\n",
    "            try:\n",
    "                title = card.find_element(By.CSS_SELECTOR, \"div.res-ewgtgq\").text.strip()\n",
    "            except:\n",
    "                title = \"Unbekannt\"\n",
    "\n",
    "            # Gehalt\n",
    "            try:\n",
    "                span = card.find_element(\n",
    "                    By.CSS_SELECTOR,\n",
    "                    \"div.res-5zx6ot span.res-1bl90s9\"\n",
    "                )\n",
    "                salary = parse_salary(span.text)\n",
    "            except:\n",
    "                salary = \"keine Angabe\"\n",
    "\n",
    "            # Stadt / Ort\n",
    "            try:\n",
    "                city = card.find_element(\n",
    "                    By.CSS_SELECTOR,\n",
    "                    \"div.res-12jlzgf span.res-du9bhi\"\n",
    "                ).text.strip()\n",
    "            except:\n",
    "                city = \"Unbekannt\"\n",
    "\n",
    "            jobs.append({\n",
    "                \"title\":  title,\n",
    "                \"salary\": salary,\n",
    "                \"city\":   city\n",
    "            })\n",
    "\n",
    "        print(f\"-> Seite {page} fertig, insgesamt {len(jobs)} Jobs.\")\n",
    "\n",
    "    return jobs"
   ],
   "id": "86340b1dd2941fc0",
   "outputs": [],
   "execution_count": 41
  },
  {
   "metadata": {
    "ExecuteTime": {
     "end_time": "2025-06-22T15:02:20.549675Z",
     "start_time": "2025-06-22T15:00:31.709491Z"
    }
   },
   "cell_type": "code",
   "source": [
    "options = Options()\n",
    "options.headless = False\n",
    "service = Service(GeckoDriverManager().install())\n",
    "driver = webdriver.Firefox(service=service, options=options)\n",
    "email = \"wi23b056@technikum-wien.at\"\n",
    "password = \"Basinga321!\"\n",
    "\n",
    "# 1) Login\n",
    "login_stepstone(driver, email, password)\n",
    "time.sleep(5) # Wait for Login\n",
    "# 2) Scrape\n",
    "jobs_berlin = scrape_jobs_stepstone(driver, query=\"Data Analyst\", location=\"Berlin\", radius=30, max_pages=5)\n",
    "jobs_hamburg = scrape_jobs_stepstone(driver, query=\"Data Analyst\", location=\"Hamburg\", radius=30, max_pages=5)\n",
    "jobs_muenchen = scrape_jobs_stepstone(driver, query=\"Data Analyst\", location=\"München\", radius=30, max_pages=5)\n",
    "jobs_koeln = scrape_jobs_stepstone(driver, query=\"Data Analyst\", location=\"Köln\", radius=30, max_pages=5)\n",
    "jobs_frankfurt = scrape_jobs_stepstone(driver, query=\"Data Analyst\", location=\"Frankfurt\", radius=30, max_pages=5)"
   ],
   "id": "ba8a0c6677cb42ec",
   "outputs": [
    {
     "name": "stdout",
     "output_type": "stream",
     "text": [
      "Cookie-Consent akzeptiert.\n",
      "Login erfolgreich!\n",
      "[Seite 1] öffne: https://www.stepstone.de/jobs/Data-Analyst/in-Berlin?radius=30&searchOrigin=Resultlist_top-search&page=1\n",
      "-> Seite 1 fertig, insgesamt 25 Jobs.\n",
      "[Seite 2] öffne: https://www.stepstone.de/jobs/Data-Analyst/in-Berlin?radius=30&searchOrigin=Resultlist_top-search&page=2\n",
      "-> Seite 2 fertig, insgesamt 50 Jobs.\n",
      "[Seite 3] öffne: https://www.stepstone.de/jobs/Data-Analyst/in-Berlin?radius=30&searchOrigin=Resultlist_top-search&page=3\n",
      "-> Seite 3 fertig, insgesamt 75 Jobs.\n",
      "[Seite 4] öffne: https://www.stepstone.de/jobs/Data-Analyst/in-Berlin?radius=30&searchOrigin=Resultlist_top-search&page=4\n",
      "-> Seite 4 fertig, insgesamt 100 Jobs.\n",
      "[Seite 5] öffne: https://www.stepstone.de/jobs/Data-Analyst/in-Berlin?radius=30&searchOrigin=Resultlist_top-search&page=5\n",
      "-> Seite 5 fertig, insgesamt 125 Jobs.\n",
      "[Seite 1] öffne: https://www.stepstone.de/jobs/Data-Analyst/in-Hamburg?radius=30&searchOrigin=Resultlist_top-search&page=1\n",
      "-> Seite 1 fertig, insgesamt 25 Jobs.\n",
      "[Seite 2] öffne: https://www.stepstone.de/jobs/Data-Analyst/in-Hamburg?radius=30&searchOrigin=Resultlist_top-search&page=2\n",
      "-> Seite 2 fertig, insgesamt 50 Jobs.\n",
      "[Seite 3] öffne: https://www.stepstone.de/jobs/Data-Analyst/in-Hamburg?radius=30&searchOrigin=Resultlist_top-search&page=3\n",
      "-> Seite 3 fertig, insgesamt 75 Jobs.\n",
      "[Seite 4] öffne: https://www.stepstone.de/jobs/Data-Analyst/in-Hamburg?radius=30&searchOrigin=Resultlist_top-search&page=4\n",
      "-> Seite 4 fertig, insgesamt 100 Jobs.\n",
      "[Seite 5] öffne: https://www.stepstone.de/jobs/Data-Analyst/in-Hamburg?radius=30&searchOrigin=Resultlist_top-search&page=5\n",
      "-> Seite 5 fertig, insgesamt 125 Jobs.\n",
      "[Seite 1] öffne: https://www.stepstone.de/jobs/Data-Analyst/in-München?radius=30&searchOrigin=Resultlist_top-search&page=1\n",
      "-> Seite 1 fertig, insgesamt 25 Jobs.\n",
      "[Seite 2] öffne: https://www.stepstone.de/jobs/Data-Analyst/in-München?radius=30&searchOrigin=Resultlist_top-search&page=2\n",
      "-> Seite 2 fertig, insgesamt 50 Jobs.\n",
      "[Seite 3] öffne: https://www.stepstone.de/jobs/Data-Analyst/in-München?radius=30&searchOrigin=Resultlist_top-search&page=3\n",
      "-> Seite 3 fertig, insgesamt 75 Jobs.\n",
      "[Seite 4] öffne: https://www.stepstone.de/jobs/Data-Analyst/in-München?radius=30&searchOrigin=Resultlist_top-search&page=4\n",
      "-> Seite 4 fertig, insgesamt 100 Jobs.\n",
      "[Seite 5] öffne: https://www.stepstone.de/jobs/Data-Analyst/in-München?radius=30&searchOrigin=Resultlist_top-search&page=5\n",
      "-> Seite 5 fertig, insgesamt 125 Jobs.\n",
      "[Seite 1] öffne: https://www.stepstone.de/jobs/Data-Analyst/in-Köln?radius=30&searchOrigin=Resultlist_top-search&page=1\n",
      "-> Seite 1 fertig, insgesamt 25 Jobs.\n",
      "[Seite 2] öffne: https://www.stepstone.de/jobs/Data-Analyst/in-Köln?radius=30&searchOrigin=Resultlist_top-search&page=2\n",
      "-> Seite 2 fertig, insgesamt 50 Jobs.\n",
      "[Seite 3] öffne: https://www.stepstone.de/jobs/Data-Analyst/in-Köln?radius=30&searchOrigin=Resultlist_top-search&page=3\n",
      "-> Seite 3 fertig, insgesamt 75 Jobs.\n",
      "[Seite 4] öffne: https://www.stepstone.de/jobs/Data-Analyst/in-Köln?radius=30&searchOrigin=Resultlist_top-search&page=4\n",
      "-> Seite 4 fertig, insgesamt 100 Jobs.\n",
      "[Seite 5] öffne: https://www.stepstone.de/jobs/Data-Analyst/in-Köln?radius=30&searchOrigin=Resultlist_top-search&page=5\n",
      "-> Seite 5 fertig, insgesamt 125 Jobs.\n",
      "[Seite 1] öffne: https://www.stepstone.de/jobs/Data-Analyst/in-Frankfurt?radius=30&searchOrigin=Resultlist_top-search&page=1\n",
      "-> Seite 1 fertig, insgesamt 25 Jobs.\n",
      "[Seite 2] öffne: https://www.stepstone.de/jobs/Data-Analyst/in-Frankfurt?radius=30&searchOrigin=Resultlist_top-search&page=2\n",
      "-> Seite 2 fertig, insgesamt 50 Jobs.\n",
      "[Seite 3] öffne: https://www.stepstone.de/jobs/Data-Analyst/in-Frankfurt?radius=30&searchOrigin=Resultlist_top-search&page=3\n",
      "-> Seite 3 fertig, insgesamt 75 Jobs.\n",
      "[Seite 4] öffne: https://www.stepstone.de/jobs/Data-Analyst/in-Frankfurt?radius=30&searchOrigin=Resultlist_top-search&page=4\n",
      "-> Seite 4 fertig, insgesamt 100 Jobs.\n",
      "[Seite 5] öffne: https://www.stepstone.de/jobs/Data-Analyst/in-Frankfurt?radius=30&searchOrigin=Resultlist_top-search&page=5\n",
      "-> Seite 5 fertig, insgesamt 125 Jobs.\n"
     ]
    }
   ],
   "execution_count": 42
  },
  {
   "metadata": {
    "ExecuteTime": {
     "end_time": "2025-06-22T15:02:21.023160Z",
     "start_time": "2025-06-22T15:02:20.952803Z"
    }
   },
   "cell_type": "code",
   "source": [
    "jobs = jobs_berlin + jobs_hamburg + jobs_muenchen + jobs_koeln + jobs_frankfurt\n",
    "df = pd.DataFrame(jobs)\n",
    "df.head(20)\n",
    "df.to_csv(\"../output/data_analyst_germany_stepstone.csv\", index=False, encoding=\"utf-8-sig\")"
   ],
   "id": "591e52462f1f752e",
   "outputs": [],
   "execution_count": 43
  },
  {
   "metadata": {
    "ExecuteTime": {
     "end_time": "2025-06-22T15:02:21.200585Z",
     "start_time": "2025-06-22T15:02:21.192877Z"
    }
   },
   "cell_type": "code",
   "source": [
    "\"\"\"\n",
    "options = Options()\n",
    "email = \"wi23b056@technikum-wien.at\"\n",
    "password = \"Basinga321!\"\n",
    "options.add_argument('--headless')\n",
    "service = Service(GeckoDriverManager().install())\n",
    "driver = webdriver.Firefox(service=service, options=options)\n",
    "base_url = \"https://www.stepstone.de/jobs/data-analyst?page={page}&searchOrigin=membersarea\"\n",
    "login_stepstone(driver, email, password)\n",
    "time.sleep(3)\n",
    "url = base_url.format(page=1)\n",
    "print(f\"Scraping URL: {url}\")\n",
    "driver.get(url)\n",
    "soup = BeautifulSoup(driver.page_source, \"html.parser\")\n",
    "print(f\"HTML Code: {soup.prettify()}\")\n",
    "\"\"\""
   ],
   "id": "6d57c0062c8d22cd",
   "outputs": [
    {
     "data": {
      "text/plain": [
       "'\\noptions = Options()\\nemail = \"wi23b056@technikum-wien.at\"\\npassword = \"Basinga321!\"\\noptions.add_argument(\\'--headless\\')\\nservice = Service(GeckoDriverManager().install())\\ndriver = webdriver.Firefox(service=service, options=options)\\nbase_url = \"https://www.stepstone.de/jobs/data-analyst?page={page}&searchOrigin=membersarea\"\\nlogin_stepstone(driver, email, password)\\ntime.sleep(3)\\nurl = base_url.format(page=1)\\nprint(f\"Scraping URL: {url}\")\\ndriver.get(url)\\nsoup = BeautifulSoup(driver.page_source, \"html.parser\")\\nprint(f\"HTML Code: {soup.prettify()}\")\\n'"
      ]
     },
     "execution_count": 44,
     "metadata": {},
     "output_type": "execute_result"
    }
   ],
   "execution_count": 44
  }
 ],
 "metadata": {
  "kernelspec": {
   "display_name": "Python 3 (ipykernel)",
   "language": "python",
   "name": "python3"
  },
  "language_info": {
   "codemirror_mode": {
    "name": "ipython",
    "version": 3
   },
   "file_extension": ".py",
   "mimetype": "text/x-python",
   "name": "python",
   "nbconvert_exporter": "python",
   "pygments_lexer": "ipython3",
   "version": "3.12.7"
  }
 },
 "nbformat": 4,
 "nbformat_minor": 5
}
