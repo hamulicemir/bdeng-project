{
 "cells": [
  {
   "metadata": {},
   "cell_type": "markdown",
   "source": "# Cost of Living Datenanalyse - Jupyter Notebook mit API-Abfrage",
   "id": "321d6d135c4fecb1"
  },
  {
   "metadata": {
    "ExecuteTime": {
     "end_time": "2025-06-21T11:34:27.250410Z",
     "start_time": "2025-06-21T11:34:27.244871Z"
    }
   },
   "cell_type": "code",
   "source": [
    "import pandas as pd\n",
    "import matplotlib.pyplot as plt\n",
    "import seaborn as sns\n",
    "import requests\n",
    "import time\n",
    "import re"
   ],
   "id": "3ec09866b18e94e9",
   "outputs": [],
   "execution_count": 40
  },
  {
   "metadata": {},
   "cell_type": "markdown",
   "source": "",
   "id": "17e17c0de8140c2f"
  },
  {
   "metadata": {
    "ExecuteTime": {
     "end_time": "2025-06-21T11:34:30.535267Z",
     "start_time": "2025-06-21T11:34:30.527211Z"
    }
   },
   "cell_type": "code",
   "source": [
    "API_KEY = \"8773|XHzf41HtmUEBgTLSbetLG8rMDkKznRmYk5JGviM9\"\n",
    "headers = {\n",
    "    \"Authorization\": f\"Bearer {API_KEY}\"\n",
    "}\n",
    "\n",
    "cities = [\n",
    "    {\"city\": \"vienna\", \"country\": \"austria\"},\n",
    "    {\"city\": \"graz\", \"country\": \"austria\"},\n",
    "    {\"city\": \"linz\", \"country\": \"austria\"},\n",
    "    {\"city\": \"salzburg\", \"country\": \"austria\"},\n",
    "\n",
    "    {\"city\": \"berlin\", \"country\": \"germany\"},\n",
    "    {\"city\": \"munich\", \"country\": \"germany\"},\n",
    "    {\"city\": \"hamburg\", \"country\": \"germany\"},\n",
    "    {\"city\": \"dusseldorf\", \"country\": \"germany\"},\n",
    "    {\"city\": \"frankfurt\", \"country\": \"germany\"},\n",
    "    {\"city\": \"hannover\", \"country\": \"germany\"},\n",
    "    {\"city\": \"nuremberg\", \"country\": \"germany\"},\n",
    "    {\"city\": \"essen\", \"country\": \"germany\"},\n",
    "    {\"city\": \"cologne\", \"country\": \"germany\"},\n",
    "\n",
    "    {\"city\": \"bern\", \"country\": \"switzerland\"},\n",
    "    {\"city\": \"zurich\", \"country\": \"switzerland\"},\n",
    "    {\"city\": \"geneva\", \"country\": \"switzerland\"},\n",
    "    {\"city\": \"basel\", \"country\": \"switzerland\"}\n",
    "]\n",
    "\n",
    "base_url = \"https://zylalabs.com/api/3440/world+cost+of+living+api/3745/get+prices\"\n",
    "\n",
    "results = []\n",
    "\n",
    "def normalize_keys(data):\n",
    "    normalized = {}\n",
    "    for k, v in data.items():\n",
    "        key = k.lower()\n",
    "        key = re.sub(r\"[^a-z0-9]+\", \"_\", key)\n",
    "        key = key.strip(\"_\")\n",
    "        normalized[key] = v\n",
    "    return normalized\n",
    "\n",
    "for loc in cities:\n",
    "    params = {\"city\": loc[\"city\"], \"country\": loc[\"country\"]}\n",
    "    response = requests.get(base_url, headers=headers, params=params)\n",
    "    if response.status_code == 200:\n",
    "        raw = response.json()\n",
    "        norm = normalize_keys(raw)\n",
    "        norm[\"city_name\"] = loc[\"city\"]\n",
    "        norm[\"timestamp\"] = time.time()\n",
    "        results.append(norm)\n",
    "    else:\n",
    "        print(f\"Fehler bei {loc['city']}: {response.status_code}\")"
   ],
   "id": "ace4df1ada6bce15",
   "outputs": [],
   "execution_count": 42
  },
  {
   "metadata": {},
   "cell_type": "markdown",
   "source": "### 2. Umwandlung in Dataframe",
   "id": "ea2c5bdb24e71af7"
  },
  {
   "metadata": {
    "ExecuteTime": {
     "end_time": "2025-06-21T11:40:17.313639Z",
     "start_time": "2025-06-21T11:40:17.306604Z"
    }
   },
   "cell_type": "code",
   "source": [
    "df = pd.DataFrame(results)\n",
    "print(df.columns.tolist())"
   ],
   "id": "84c54f5f313529ed",
   "outputs": [],
   "execution_count": 46
  },
  {
   "metadata": {},
   "cell_type": "markdown",
   "source": "### 3. Daten vorbereiten",
   "id": "2e8243fff53f8b61"
  },
  {
   "metadata": {
    "ExecuteTime": {
     "end_time": "2025-06-21T11:40:19.282191Z",
     "start_time": "2025-06-21T11:40:19.272649Z"
    }
   },
   "cell_type": "code",
   "source": [
    "for col in [\n",
    "    \"average_monthly_net_salary_after_tax\",\n",
    "    \"apartment_1_bedroom_in_city_centre\",\n",
    "    \"meal_inexpensive_restaurant\",\n",
    "    \"internet_60_mbps_or_more_unlimited_data_cable_adsl\",\n",
    "    \"basic_electricity_heating_cooling_water_garbage_for_915_sq_ft_apartment\"\n",
    "]:\n",
    "    if col in df.columns:\n",
    "        df[col] = df[col].replace({\"€\": \"\", \",\": \"\"}, regex=True)\n",
    "        df[col] = pd.to_numeric(df[col], errors=\"coerce\")"
   ],
   "id": "b01cebdd2c9b69be",
   "outputs": [],
   "execution_count": 47
  },
  {
   "metadata": {},
   "cell_type": "markdown",
   "source": "### 4. Übersicht anzeigen",
   "id": "5ef7796cdad22940"
  },
  {
   "metadata": {
    "ExecuteTime": {
     "end_time": "2025-06-21T11:40:21.070647Z",
     "start_time": "2025-06-21T11:40:21.061974Z"
    }
   },
   "cell_type": "code",
   "source": [
    "df_overview = df[[\n",
    "    \"city_name\",\n",
    "    \"average_monthly_net_salary_after_tax\",\n",
    "    \"apartment_1_bedroom_in_city_centre\",\n",
    "    \"meal_inexpensive_restaurant\",\n",
    "    \"internet_60_mbps_or_more_unlimited_data_cable_adsl\"\n",
    "]]\n",
    "df_overview = df_overview.dropna()"
   ],
   "id": "72f2e71be9128375",
   "outputs": [],
   "execution_count": 48
  },
  {
   "metadata": {},
   "cell_type": "markdown",
   "source": "### 5. Visualisierung",
   "id": "fac362f493af3583"
  },
  {
   "metadata": {
    "ExecuteTime": {
     "end_time": "2025-06-21T11:26:36.298338Z",
     "start_time": "2025-06-21T11:26:36.278737Z"
    }
   },
   "cell_type": "code",
   "source": "df.head()",
   "id": "e792da71363b0a21",
   "outputs": [
    {
     "data": {
      "text/plain": [
       "   version  status  success city_name  meal_inexpensive_restaurant  \\\n",
       "0        1     200     True    vienna                          NaN   \n",
       "1        1     200     True    berlin                          NaN   \n",
       "2        1     200     True      bern                          NaN   \n",
       "\n",
       "  meal_for_2_people_mid_range_restaurant_three_course  \\\n",
       "0                                            70.00 €    \n",
       "1                                            70.00 €    \n",
       "2                                          87.50 Fr.    \n",
       "\n",
       "  mcmeal_at_mcdonalds_or_equivalent_combo_meal domestic_beer_1_pint_draught  \\\n",
       "0                                      10.00 €                       5.00 €   \n",
       "1                                      12.00 €                       4.50 €   \n",
       "2                                    14.00 Fr.                     6.75 Fr.   \n",
       "\n",
       "  imported_beer_12_oz_small_bottle cappuccino_regular  ...  \\\n",
       "0                           1.76 €             4.22 €  ...   \n",
       "1                           1.65 €             3.77 €  ...   \n",
       "2                         1.87 Fr.           4.69 Fr.  ...   \n",
       "\n",
       "  1_pair_of_men_leather_business_shoes apartment_1_bedroom_in_city_centre  \\\n",
       "0                             136.00 €                                NaN   \n",
       "1                             121.59 €                                NaN   \n",
       "2                           187.00 Fr.                                NaN   \n",
       "\n",
       "  apartment_1_bedroom_outside_of_centre apartment_3_bedrooms_in_city_centre  \\\n",
       "0                              749.05 €                          1,982.12 €   \n",
       "1                              900.04 €                          2,228.95 €   \n",
       "2                          1,033.33 Fr.                        2,637.71 Fr.   \n",
       "\n",
       "  apartment_3_bedrooms_outside_of_centre  \\\n",
       "0                             1,420.31 €   \n",
       "1                             1,590.86 €   \n",
       "2                           1,942.86 Fr.   \n",
       "\n",
       "  price_per_square_feet_to_buy_apartment_in_city_centre  \\\n",
       "0                                           884.51 €      \n",
       "1                                           714.41 €      \n",
       "2                                       1,111.11 Fr.      \n",
       "\n",
       "  price_per_square_feet_to_buy_apartment_outside_of_centre  \\\n",
       "0                                           553.32 €         \n",
       "1                                           525.05 €         \n",
       "2                                         805.93 Fr.         \n",
       "\n",
       "  average_monthly_net_salary_after_tax  \\\n",
       "0                                  NaN   \n",
       "1                                  NaN   \n",
       "2                                  NaN   \n",
       "\n",
       "  mortgage_interest_rate_in_percentages_yearly_for_20_years_fixed_rate  \\\n",
       "0                                               3.63                     \n",
       "1                                               3.84                     \n",
       "2                                               2.52                     \n",
       "\n",
       "      timestamp  \n",
       "0  1.750505e+09  \n",
       "1  1.750505e+09  \n",
       "2  1.750505e+09  \n",
       "\n",
       "[3 rows x 59 columns]"
      ],
      "text/html": [
       "<div>\n",
       "<style scoped>\n",
       "    .dataframe tbody tr th:only-of-type {\n",
       "        vertical-align: middle;\n",
       "    }\n",
       "\n",
       "    .dataframe tbody tr th {\n",
       "        vertical-align: top;\n",
       "    }\n",
       "\n",
       "    .dataframe thead th {\n",
       "        text-align: right;\n",
       "    }\n",
       "</style>\n",
       "<table border=\"1\" class=\"dataframe\">\n",
       "  <thead>\n",
       "    <tr style=\"text-align: right;\">\n",
       "      <th></th>\n",
       "      <th>version</th>\n",
       "      <th>status</th>\n",
       "      <th>success</th>\n",
       "      <th>city_name</th>\n",
       "      <th>meal_inexpensive_restaurant</th>\n",
       "      <th>meal_for_2_people_mid_range_restaurant_three_course</th>\n",
       "      <th>mcmeal_at_mcdonalds_or_equivalent_combo_meal</th>\n",
       "      <th>domestic_beer_1_pint_draught</th>\n",
       "      <th>imported_beer_12_oz_small_bottle</th>\n",
       "      <th>cappuccino_regular</th>\n",
       "      <th>...</th>\n",
       "      <th>1_pair_of_men_leather_business_shoes</th>\n",
       "      <th>apartment_1_bedroom_in_city_centre</th>\n",
       "      <th>apartment_1_bedroom_outside_of_centre</th>\n",
       "      <th>apartment_3_bedrooms_in_city_centre</th>\n",
       "      <th>apartment_3_bedrooms_outside_of_centre</th>\n",
       "      <th>price_per_square_feet_to_buy_apartment_in_city_centre</th>\n",
       "      <th>price_per_square_feet_to_buy_apartment_outside_of_centre</th>\n",
       "      <th>average_monthly_net_salary_after_tax</th>\n",
       "      <th>mortgage_interest_rate_in_percentages_yearly_for_20_years_fixed_rate</th>\n",
       "      <th>timestamp</th>\n",
       "    </tr>\n",
       "  </thead>\n",
       "  <tbody>\n",
       "    <tr>\n",
       "      <th>0</th>\n",
       "      <td>1</td>\n",
       "      <td>200</td>\n",
       "      <td>True</td>\n",
       "      <td>vienna</td>\n",
       "      <td>NaN</td>\n",
       "      <td>70.00 €</td>\n",
       "      <td>10.00 €</td>\n",
       "      <td>5.00 €</td>\n",
       "      <td>1.76 €</td>\n",
       "      <td>4.22 €</td>\n",
       "      <td>...</td>\n",
       "      <td>136.00 €</td>\n",
       "      <td>NaN</td>\n",
       "      <td>749.05 €</td>\n",
       "      <td>1,982.12 €</td>\n",
       "      <td>1,420.31 €</td>\n",
       "      <td>884.51 €</td>\n",
       "      <td>553.32 €</td>\n",
       "      <td>NaN</td>\n",
       "      <td>3.63</td>\n",
       "      <td>1.750505e+09</td>\n",
       "    </tr>\n",
       "    <tr>\n",
       "      <th>1</th>\n",
       "      <td>1</td>\n",
       "      <td>200</td>\n",
       "      <td>True</td>\n",
       "      <td>berlin</td>\n",
       "      <td>NaN</td>\n",
       "      <td>70.00 €</td>\n",
       "      <td>12.00 €</td>\n",
       "      <td>4.50 €</td>\n",
       "      <td>1.65 €</td>\n",
       "      <td>3.77 €</td>\n",
       "      <td>...</td>\n",
       "      <td>121.59 €</td>\n",
       "      <td>NaN</td>\n",
       "      <td>900.04 €</td>\n",
       "      <td>2,228.95 €</td>\n",
       "      <td>1,590.86 €</td>\n",
       "      <td>714.41 €</td>\n",
       "      <td>525.05 €</td>\n",
       "      <td>NaN</td>\n",
       "      <td>3.84</td>\n",
       "      <td>1.750505e+09</td>\n",
       "    </tr>\n",
       "    <tr>\n",
       "      <th>2</th>\n",
       "      <td>1</td>\n",
       "      <td>200</td>\n",
       "      <td>True</td>\n",
       "      <td>bern</td>\n",
       "      <td>NaN</td>\n",
       "      <td>87.50 Fr.</td>\n",
       "      <td>14.00 Fr.</td>\n",
       "      <td>6.75 Fr.</td>\n",
       "      <td>1.87 Fr.</td>\n",
       "      <td>4.69 Fr.</td>\n",
       "      <td>...</td>\n",
       "      <td>187.00 Fr.</td>\n",
       "      <td>NaN</td>\n",
       "      <td>1,033.33 Fr.</td>\n",
       "      <td>2,637.71 Fr.</td>\n",
       "      <td>1,942.86 Fr.</td>\n",
       "      <td>1,111.11 Fr.</td>\n",
       "      <td>805.93 Fr.</td>\n",
       "      <td>NaN</td>\n",
       "      <td>2.52</td>\n",
       "      <td>1.750505e+09</td>\n",
       "    </tr>\n",
       "  </tbody>\n",
       "</table>\n",
       "<p>3 rows × 59 columns</p>\n",
       "</div>"
      ]
     },
     "execution_count": 39,
     "metadata": {},
     "output_type": "execute_result"
    }
   ],
   "execution_count": 39
  },
  {
   "metadata": {},
   "cell_type": "markdown",
   "source": "",
   "id": "8b99d8caf3b3071b"
  },
  {
   "metadata": {},
   "cell_type": "markdown",
   "source": "",
   "id": "3ffc056cf52fd5a8"
  }
 ],
 "metadata": {
  "kernelspec": {
   "display_name": "Python 3",
   "language": "python",
   "name": "python3"
  },
  "language_info": {
   "codemirror_mode": {
    "name": "ipython",
    "version": 2
   },
   "file_extension": ".py",
   "mimetype": "text/x-python",
   "name": "python",
   "nbconvert_exporter": "python",
   "pygments_lexer": "ipython2",
   "version": "2.7.6"
  }
 },
 "nbformat": 4,
 "nbformat_minor": 5
}
