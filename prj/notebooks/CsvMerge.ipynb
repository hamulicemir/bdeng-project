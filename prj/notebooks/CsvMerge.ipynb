{
 "cells": [
  {
   "cell_type": "code",
   "execution_count": 2,
   "id": "initial_id",
   "metadata": {
    "jupyter": {
     "is_executing": true
    }
   },
   "outputs": [
    {
     "name": "stdout",
     "output_type": "stream",
     "text": [
      "                                           job_title  city  country  \\\n",
      "0  IT Data Analyst (m/w/d) marktführendes Logisti...  Wien  Austria   \n",
      "1                               Data Analyst (w/m/x)  Wien  Austria   \n",
      "2                               Data Analyst (w/m/x)  Wien  Austria   \n",
      "3  Berufspraktikum mit Schwerpunkt Data Analytics...  Wien  Austria   \n",
      "4                  Data Analytics Specialist (m/w/x)  Wien  Austria   \n",
      "\n",
      "  annual_salary  \n",
      "0         50500  \n",
      "1         70000  \n",
      "2         70000  \n",
      "3         26754  \n",
      "4         40000  \n",
      "Zusammengeführt: 3 Dateien – 281 Zeilen\n"
     ]
    }
   ],
   "source": [
    "import pandas as pd\n",
    "import glob\n",
    "\n",
    "# Pfad zu allen passenden CSV-Dateien\n",
    "csv_files = glob.glob(\"data_*_austria_karriere.csv\")\n",
    "\n",
    "# Einlesen und Zusammenführen\n",
    "merged_df = pd.concat((pd.read_csv(file) for file in csv_files), ignore_index=True)\n",
    "\n",
    "# Ausgabe prüfen\n",
    "print(merged_df.head())\n",
    "print(f\"Zusammengeführt: {len(csv_files)} Dateien – {len(merged_df)} Zeilen\")\n",
    "\n",
    "# Optional: als neue CSV speichern\n",
    "merged_df.to_csv(\"merged_austria_karriere.csv\", index=False, encoding=\"utf-8-sig\")"
   ]
  },
  {
   "cell_type": "code",
   "execution_count": null,
   "id": "525b2e6b-b6a7-4897-b4af-7a0a6a97ac9c",
   "metadata": {},
   "outputs": [],
   "source": []
  }
 ],
 "metadata": {
  "kernelspec": {
   "display_name": "Python [conda env:base] *",
   "language": "python",
   "name": "conda-base-py"
  },
  "language_info": {
   "codemirror_mode": {
    "name": "ipython",
    "version": 3
   },
   "file_extension": ".py",
   "mimetype": "text/x-python",
   "name": "python",
   "nbconvert_exporter": "python",
   "pygments_lexer": "ipython3",
   "version": "3.12.7"
  }
 },
 "nbformat": 4,
 "nbformat_minor": 5
}
